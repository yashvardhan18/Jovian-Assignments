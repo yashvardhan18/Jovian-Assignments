{
 "cells": [
  {
   "cell_type": "markdown",
   "metadata": {
    "_cell_guid": "b1076dfc-b9ad-4769-8c92-a6c4dae69d19",
    "_uuid": "8f2839f25d086af736a60e9eeb907d3b93b6e0e5",
    "id": "VwzqIxSlhOUp"
   },
   "source": [
    "# Insurance cost prediction using linear regression\n",
    "\n",
    "Make a submisson here: https://jovian.ai/learn/deep-learning-with-pytorch-zero-to-gans/assignment/assignment-2-train-your-first-model\n",
    "\n",
    "In this assignment we're going to use information like a person's age, sex, BMI, no. of children and smoking habit to predict the price of yearly medical bills. This kind of model is useful for insurance companies to determine the yearly insurance premium for a person. The dataset for this problem is taken from [Kaggle](https://www.kaggle.com/mirichoi0218/insurance).\n",
    "\n",
    "\n",
    "We will create a model with the following steps:\n",
    "1. Download and explore the dataset\n",
    "2. Prepare the dataset for training\n",
    "3. Create a linear regression model\n",
    "4. Train the model to fit the data\n",
    "5. Make predictions using the trained model\n",
    "\n",
    "\n",
    "This assignment builds upon the concepts from the first 2 lessons. It will help to review these Jupyter notebooks:\n",
    "- PyTorch basics: https://jovian.ai/aakashns/01-pytorch-basics\n",
    "- Linear Regression: https://jovian.ai/aakashns/02-linear-regression\n",
    "- Logistic Regression: https://jovian.ai/aakashns/03-logistic-regression\n",
    "- Linear regression (minimal): https://jovian.ai/aakashns/housing-linear-minimal\n",
    "- Logistic regression (minimal): https://jovian.ai/aakashns/mnist-logistic-minimal\n",
    "\n",
    "As you go through this notebook, you will find a **???** in certain places. Your job is to replace the **???** with appropriate code or values, to ensure that the notebook runs properly end-to-end . In some cases, you'll be required to choose some hyperparameters (learning rate, batch size etc.). Try to experiment with the hypeparameters to get the lowest loss.\n"
   ]
  },
  {
   "cell_type": "code",
   "execution_count": 4,
   "metadata": {
    "executionInfo": {
     "elapsed": 6330,
     "status": "ok",
     "timestamp": 1607787665217,
     "user": {
      "displayName": "Yashvardhan",
      "photoUrl": "https://lh3.googleusercontent.com/a-/AOh14GjOA2bDNbFlzIc87oEVhZJx5P5OImQZnvo7NGr4gg=s64",
      "userId": "12078069401031703493"
     },
     "user_tz": -330
    },
    "id": "WvjlGDjihOUu"
   },
   "outputs": [],
   "source": [
    "# Uncomment and run the appropriate command for your operating system, if required\n",
    "\n",
    "# Linux / Binder\n",
    "# !pip install numpy matplotlib pandas torch==1.7.0+cpu torchvision==0.8.1+cpu torchaudio==0.7.0 -f https://download.pytorch.org/whl/torch_stable.html\n",
    "\n",
    "# Windows\n",
    "# !pip install numpy matplotlib pandas torch==1.7.0+cpu torchvision==0.8.1+cpu torchaudio==0.7.0 -f https://download.pytorch.org/whl/torch_stable.html\n",
    "\n",
    "# MacOS\n",
    "# !pip install numpy matplotlib pandas torch torchvision torchaudio"
   ]
  },
  {
   "cell_type": "code",
   "execution_count": 5,
   "metadata": {
    "executionInfo": {
     "elapsed": 9864,
     "status": "ok",
     "timestamp": 1607787668776,
     "user": {
      "displayName": "Yashvardhan",
      "photoUrl": "https://lh3.googleusercontent.com/a-/AOh14GjOA2bDNbFlzIc87oEVhZJx5P5OImQZnvo7NGr4gg=s64",
      "userId": "12078069401031703493"
     },
     "user_tz": -330
    },
    "id": "s2SJiQ2_hOUw"
   },
   "outputs": [],
   "source": [
    "import torch\n",
    "import jovian\n",
    "import torchvision\n",
    "import torch.nn as nn\n",
    "import pandas as pd\n",
    "import matplotlib.pyplot as plt\n",
    "import torch.nn.functional as F\n",
    "from torchvision.datasets.utils import download_url\n",
    "from torch.utils.data import DataLoader, TensorDataset, random_split"
   ]
  },
  {
   "cell_type": "code",
   "execution_count": 6,
   "metadata": {
    "executionInfo": {
     "elapsed": 9844,
     "status": "ok",
     "timestamp": 1607787668780,
     "user": {
      "displayName": "Yashvardhan",
      "photoUrl": "https://lh3.googleusercontent.com/a-/AOh14GjOA2bDNbFlzIc87oEVhZJx5P5OImQZnvo7NGr4gg=s64",
      "userId": "12078069401031703493"
     },
     "user_tz": -330
    },
    "id": "Eji7AR3uhOUz"
   },
   "outputs": [],
   "source": [
    "project_name='02-insurance-linear-regression' # will be used by jovian.commit"
   ]
  },
  {
   "cell_type": "markdown",
   "metadata": {
    "id": "n2i-pVtyhOU0"
   },
   "source": [
    "## Step 1: Download and explore the data\n",
    "\n",
    "Let us begin by downloading the data. We'll use the `download_url` function from PyTorch to get the data as a CSV (comma-separated values) file. "
   ]
  },
  {
   "cell_type": "code",
   "execution_count": 7,
   "metadata": {
    "_cell_guid": "79c7e3d0-c299-4dcb-8224-4455121ee9b0",
    "_uuid": "d629ff2d2480ee46fbb7e2d37f6b5fab8052498a",
    "colab": {
     "base_uri": "https://localhost:8080/",
     "height": 86,
     "referenced_widgets": [
      "f21a332d798340489b139530bed8bede",
      "5bba82b3ab7c4ab1b3a7d6d3c656f1b1",
      "7742762e16de4c7a91f9241edb372678",
      "9b8745c2522144d08e0dc9a68705fc2a",
      "746bcf09c7294381b63cf4a5ea85aaca",
      "381cabbed28a4f3eb8d1e11737c4bcc3",
      "4754e04bbde44283bf101807744753f0",
      "60a323a624b242c3a9cd9d5dfccf2617"
     ]
    },
    "executionInfo": {
     "elapsed": 12261,
     "status": "ok",
     "timestamp": 1607787671224,
     "user": {
      "displayName": "Yashvardhan",
      "photoUrl": "https://lh3.googleusercontent.com/a-/AOh14GjOA2bDNbFlzIc87oEVhZJx5P5OImQZnvo7NGr4gg=s64",
      "userId": "12078069401031703493"
     },
     "user_tz": -330
    },
    "id": "B-35442JhOU1",
    "outputId": "f5ec39ab-54ed-4d84-90df-90e9f34c7e68"
   },
   "outputs": [
    {
     "name": "stdout",
     "output_type": "stream",
     "text": [
      "Downloading https://hub.jovian.ml/wp-content/uploads/2020/05/insurance.csv to ./insurance.csv\n"
     ]
    },
    {
     "data": {
      "application/vnd.jupyter.widget-view+json": {
       "model_id": "f21a332d798340489b139530bed8bede",
       "version_major": 2,
       "version_minor": 0
      },
      "text/plain": [
       "HBox(children=(FloatProgress(value=1.0, bar_style='info', max=1.0), HTML(value='')))"
      ]
     },
     "metadata": {
      "tags": []
     },
     "output_type": "display_data"
    }
   ],
   "source": [
    "DATASET_URL = \"https://hub.jovian.ml/wp-content/uploads/2020/05/insurance.csv\"\n",
    "DATA_FILENAME = \"insurance.csv\"\n",
    "download_url(DATASET_URL, '.')"
   ]
  },
  {
   "cell_type": "markdown",
   "metadata": {
    "id": "AgnNxCcNhOU6"
   },
   "source": [
    "To load the dataset into memory, we'll use the `read_csv` function from the `pandas` library. The data will be loaded as a Pandas dataframe. See this short tutorial to learn more: https://data36.com/pandas-tutorial-1-basics-reading-data-files-dataframes-data-selection/"
   ]
  },
  {
   "cell_type": "code",
   "execution_count": 8,
   "metadata": {
    "colab": {
     "base_uri": "https://localhost:8080/",
     "height": 195
    },
    "executionInfo": {
     "elapsed": 12222,
     "status": "ok",
     "timestamp": 1607787671230,
     "user": {
      "displayName": "Yashvardhan",
      "photoUrl": "https://lh3.googleusercontent.com/a-/AOh14GjOA2bDNbFlzIc87oEVhZJx5P5OImQZnvo7NGr4gg=s64",
      "userId": "12078069401031703493"
     },
     "user_tz": -330
    },
    "id": "kA_HwZl4hOU8",
    "outputId": "dd2fac88-1000-4c72-f015-658a0df75aba"
   },
   "outputs": [
    {
     "data": {
      "text/html": [
       "<div>\n",
       "<style scoped>\n",
       "    .dataframe tbody tr th:only-of-type {\n",
       "        vertical-align: middle;\n",
       "    }\n",
       "\n",
       "    .dataframe tbody tr th {\n",
       "        vertical-align: top;\n",
       "    }\n",
       "\n",
       "    .dataframe thead th {\n",
       "        text-align: right;\n",
       "    }\n",
       "</style>\n",
       "<table border=\"1\" class=\"dataframe\">\n",
       "  <thead>\n",
       "    <tr style=\"text-align: right;\">\n",
       "      <th></th>\n",
       "      <th>age</th>\n",
       "      <th>sex</th>\n",
       "      <th>bmi</th>\n",
       "      <th>children</th>\n",
       "      <th>smoker</th>\n",
       "      <th>region</th>\n",
       "      <th>charges</th>\n",
       "    </tr>\n",
       "  </thead>\n",
       "  <tbody>\n",
       "    <tr>\n",
       "      <th>0</th>\n",
       "      <td>19</td>\n",
       "      <td>female</td>\n",
       "      <td>27.900</td>\n",
       "      <td>0</td>\n",
       "      <td>yes</td>\n",
       "      <td>southwest</td>\n",
       "      <td>16884.92400</td>\n",
       "    </tr>\n",
       "    <tr>\n",
       "      <th>1</th>\n",
       "      <td>18</td>\n",
       "      <td>male</td>\n",
       "      <td>33.770</td>\n",
       "      <td>1</td>\n",
       "      <td>no</td>\n",
       "      <td>southeast</td>\n",
       "      <td>1725.55230</td>\n",
       "    </tr>\n",
       "    <tr>\n",
       "      <th>2</th>\n",
       "      <td>28</td>\n",
       "      <td>male</td>\n",
       "      <td>33.000</td>\n",
       "      <td>3</td>\n",
       "      <td>no</td>\n",
       "      <td>southeast</td>\n",
       "      <td>4449.46200</td>\n",
       "    </tr>\n",
       "    <tr>\n",
       "      <th>3</th>\n",
       "      <td>33</td>\n",
       "      <td>male</td>\n",
       "      <td>22.705</td>\n",
       "      <td>0</td>\n",
       "      <td>no</td>\n",
       "      <td>northwest</td>\n",
       "      <td>21984.47061</td>\n",
       "    </tr>\n",
       "    <tr>\n",
       "      <th>4</th>\n",
       "      <td>32</td>\n",
       "      <td>male</td>\n",
       "      <td>28.880</td>\n",
       "      <td>0</td>\n",
       "      <td>no</td>\n",
       "      <td>northwest</td>\n",
       "      <td>3866.85520</td>\n",
       "    </tr>\n",
       "  </tbody>\n",
       "</table>\n",
       "</div>"
      ],
      "text/plain": [
       "   age     sex     bmi  children smoker     region      charges\n",
       "0   19  female  27.900         0    yes  southwest  16884.92400\n",
       "1   18    male  33.770         1     no  southeast   1725.55230\n",
       "2   28    male  33.000         3     no  southeast   4449.46200\n",
       "3   33    male  22.705         0     no  northwest  21984.47061\n",
       "4   32    male  28.880         0     no  northwest   3866.85520"
      ]
     },
     "execution_count": 8,
     "metadata": {
      "tags": []
     },
     "output_type": "execute_result"
    }
   ],
   "source": [
    "dataframe_raw = pd.read_csv(DATA_FILENAME)\n",
    "dataframe_raw.head()"
   ]
  },
  {
   "cell_type": "markdown",
   "metadata": {
    "id": "NCJumhnBhOVL"
   },
   "source": [
    "We're going to do a slight customization of the data, so that you every participant receives a slightly different version of the dataset. Fill in your name below as a string (enter at least 5 characters)"
   ]
  },
  {
   "cell_type": "code",
   "execution_count": 9,
   "metadata": {
    "executionInfo": {
     "elapsed": 12186,
     "status": "ok",
     "timestamp": 1607787671234,
     "user": {
      "displayName": "Yashvardhan",
      "photoUrl": "https://lh3.googleusercontent.com/a-/AOh14GjOA2bDNbFlzIc87oEVhZJx5P5OImQZnvo7NGr4gg=s64",
      "userId": "12078069401031703493"
     },
     "user_tz": -330
    },
    "id": "NB-SzxUKhOVM"
   },
   "outputs": [],
   "source": [
    "your_name = 'YasHv' # at least 5 characters"
   ]
  },
  {
   "cell_type": "markdown",
   "metadata": {
    "id": "MTE2MerShOVN"
   },
   "source": [
    "The `customize_dataset` function will customize the dataset slightly using your name as a source of random numbers."
   ]
  },
  {
   "cell_type": "code",
   "execution_count": 10,
   "metadata": {
    "executionInfo": {
     "elapsed": 12175,
     "status": "ok",
     "timestamp": 1607787671240,
     "user": {
      "displayName": "Yashvardhan",
      "photoUrl": "https://lh3.googleusercontent.com/a-/AOh14GjOA2bDNbFlzIc87oEVhZJx5P5OImQZnvo7NGr4gg=s64",
      "userId": "12078069401031703493"
     },
     "user_tz": -330
    },
    "id": "oKun0XA6hOVT"
   },
   "outputs": [],
   "source": [
    "def customize_dataset(dataframe_raw, rand_str):\n",
    "    dataframe = dataframe_raw.copy(deep=True)\n",
    "    # drop some rows\n",
    "    dataframe = dataframe.sample(int(0.95*len(dataframe)), random_state=int(ord(rand_str[0])))\n",
    "    # scale input\n",
    "    dataframe.bmi = dataframe.bmi * ord(rand_str[1])/100.\n",
    "    # scale target\n",
    "    dataframe.charges = dataframe.charges * ord(rand_str[2])/100.\n",
    "    # drop column\n",
    "    if ord(rand_str[3]) % 2 == 1:\n",
    "        dataframe = dataframe.drop([' region '], axis=1)\n",
    "    return dataframe"
   ]
  },
  {
   "cell_type": "code",
   "execution_count": 11,
   "metadata": {
    "colab": {
     "base_uri": "https://localhost:8080/",
     "height": 195
    },
    "executionInfo": {
     "elapsed": 12133,
     "status": "ok",
     "timestamp": 1607787671278,
     "user": {
      "displayName": "Yashvardhan",
      "photoUrl": "https://lh3.googleusercontent.com/a-/AOh14GjOA2bDNbFlzIc87oEVhZJx5P5OImQZnvo7NGr4gg=s64",
      "userId": "12078069401031703493"
     },
     "user_tz": -330
    },
    "id": "HD9VjZq-FDPZ",
    "outputId": "748a8b7a-4dbc-4fc0-9418-ccc3390a4d8c"
   },
   "outputs": [
    {
     "data": {
      "text/html": [
       "<div>\n",
       "<style scoped>\n",
       "    .dataframe tbody tr th:only-of-type {\n",
       "        vertical-align: middle;\n",
       "    }\n",
       "\n",
       "    .dataframe tbody tr th {\n",
       "        vertical-align: top;\n",
       "    }\n",
       "\n",
       "    .dataframe thead th {\n",
       "        text-align: right;\n",
       "    }\n",
       "</style>\n",
       "<table border=\"1\" class=\"dataframe\">\n",
       "  <thead>\n",
       "    <tr style=\"text-align: right;\">\n",
       "      <th></th>\n",
       "      <th>age</th>\n",
       "      <th>sex</th>\n",
       "      <th>bmi</th>\n",
       "      <th>children</th>\n",
       "      <th>smoker</th>\n",
       "      <th>charges</th>\n",
       "    </tr>\n",
       "  </thead>\n",
       "  <tbody>\n",
       "    <tr>\n",
       "      <th>0</th>\n",
       "      <td>19</td>\n",
       "      <td>female</td>\n",
       "      <td>27.900</td>\n",
       "      <td>0</td>\n",
       "      <td>yes</td>\n",
       "      <td>16884.92400</td>\n",
       "    </tr>\n",
       "    <tr>\n",
       "      <th>1</th>\n",
       "      <td>18</td>\n",
       "      <td>male</td>\n",
       "      <td>33.770</td>\n",
       "      <td>1</td>\n",
       "      <td>no</td>\n",
       "      <td>1725.55230</td>\n",
       "    </tr>\n",
       "    <tr>\n",
       "      <th>2</th>\n",
       "      <td>28</td>\n",
       "      <td>male</td>\n",
       "      <td>33.000</td>\n",
       "      <td>3</td>\n",
       "      <td>no</td>\n",
       "      <td>4449.46200</td>\n",
       "    </tr>\n",
       "    <tr>\n",
       "      <th>3</th>\n",
       "      <td>33</td>\n",
       "      <td>male</td>\n",
       "      <td>22.705</td>\n",
       "      <td>0</td>\n",
       "      <td>no</td>\n",
       "      <td>21984.47061</td>\n",
       "    </tr>\n",
       "    <tr>\n",
       "      <th>4</th>\n",
       "      <td>32</td>\n",
       "      <td>male</td>\n",
       "      <td>28.880</td>\n",
       "      <td>0</td>\n",
       "      <td>no</td>\n",
       "      <td>3866.85520</td>\n",
       "    </tr>\n",
       "  </tbody>\n",
       "</table>\n",
       "</div>"
      ],
      "text/plain": [
       "   age     sex     bmi  children smoker      charges\n",
       "0   19  female  27.900         0    yes  16884.92400\n",
       "1   18    male  33.770         1     no   1725.55230\n",
       "2   28    male  33.000         3     no   4449.46200\n",
       "3   33    male  22.705         0     no  21984.47061\n",
       "4   32    male  28.880         0     no   3866.85520"
      ]
     },
     "execution_count": 11,
     "metadata": {
      "tags": []
     },
     "output_type": "execute_result"
    }
   ],
   "source": [
    "dataframe=dataframe_raw.copy()\r\n",
    "dataframe=dataframe.drop([\"region\"], axis=1)\r\n",
    "dataframe.head()"
   ]
  },
  {
   "cell_type": "code",
   "execution_count": 12,
   "metadata": {
    "colab": {
     "base_uri": "https://localhost:8080/",
     "height": 212
    },
    "executionInfo": {
     "elapsed": 12084,
     "status": "ok",
     "timestamp": 1607787671288,
     "user": {
      "displayName": "Yashvardhan",
      "photoUrl": "https://lh3.googleusercontent.com/a-/AOh14GjOA2bDNbFlzIc87oEVhZJx5P5OImQZnvo7NGr4gg=s64",
      "userId": "12078069401031703493"
     },
     "user_tz": -330
    },
    "id": "2g28ZumRhOVV",
    "outputId": "91861d27-5243-4bb9-9172-d0fcf0a15cd1"
   },
   "outputs": [
    {
     "name": "stdout",
     "output_type": "stream",
     "text": [
      "\n"
     ]
    },
    {
     "data": {
      "text/html": [
       "<div>\n",
       "<style scoped>\n",
       "    .dataframe tbody tr th:only-of-type {\n",
       "        vertical-align: middle;\n",
       "    }\n",
       "\n",
       "    .dataframe tbody tr th {\n",
       "        vertical-align: top;\n",
       "    }\n",
       "\n",
       "    .dataframe thead th {\n",
       "        text-align: right;\n",
       "    }\n",
       "</style>\n",
       "<table border=\"1\" class=\"dataframe\">\n",
       "  <thead>\n",
       "    <tr style=\"text-align: right;\">\n",
       "      <th></th>\n",
       "      <th>age</th>\n",
       "      <th>sex</th>\n",
       "      <th>bmi</th>\n",
       "      <th>children</th>\n",
       "      <th>smoker</th>\n",
       "      <th>region</th>\n",
       "      <th>charges</th>\n",
       "    </tr>\n",
       "  </thead>\n",
       "  <tbody>\n",
       "    <tr>\n",
       "      <th>290</th>\n",
       "      <td>28</td>\n",
       "      <td>female</td>\n",
       "      <td>32.39800</td>\n",
       "      <td>0</td>\n",
       "      <td>no</td>\n",
       "      <td>southwest</td>\n",
       "      <td>3647.820700</td>\n",
       "    </tr>\n",
       "    <tr>\n",
       "      <th>651</th>\n",
       "      <td>53</td>\n",
       "      <td>female</td>\n",
       "      <td>38.41200</td>\n",
       "      <td>1</td>\n",
       "      <td>no</td>\n",
       "      <td>southeast</td>\n",
       "      <td>12166.667650</td>\n",
       "    </tr>\n",
       "    <tr>\n",
       "      <th>118</th>\n",
       "      <td>49</td>\n",
       "      <td>female</td>\n",
       "      <td>26.35490</td>\n",
       "      <td>0</td>\n",
       "      <td>no</td>\n",
       "      <td>southeast</td>\n",
       "      <td>9891.528695</td>\n",
       "    </tr>\n",
       "    <tr>\n",
       "      <th>255</th>\n",
       "      <td>55</td>\n",
       "      <td>female</td>\n",
       "      <td>24.60405</td>\n",
       "      <td>3</td>\n",
       "      <td>no</td>\n",
       "      <td>northeast</td>\n",
       "      <td>15004.432203</td>\n",
       "    </tr>\n",
       "    <tr>\n",
       "      <th>1166</th>\n",
       "      <td>57</td>\n",
       "      <td>male</td>\n",
       "      <td>39.15890</td>\n",
       "      <td>0</td>\n",
       "      <td>no</td>\n",
       "      <td>southeast</td>\n",
       "      <td>12629.876495</td>\n",
       "    </tr>\n",
       "  </tbody>\n",
       "</table>\n",
       "</div>"
      ],
      "text/plain": [
       "      age     sex       bmi  children smoker     region       charges\n",
       "290    28  female  32.39800         0     no  southwest   3647.820700\n",
       "651    53  female  38.41200         1     no  southeast  12166.667650\n",
       "118    49  female  26.35490         0     no  southeast   9891.528695\n",
       "255    55  female  24.60405         3     no  northeast  15004.432203\n",
       "1166   57    male  39.15890         0     no  southeast  12629.876495"
      ]
     },
     "execution_count": 12,
     "metadata": {
      "tags": []
     },
     "output_type": "execute_result"
    }
   ],
   "source": [
    "dataframe = customize_dataset(dataframe_raw, your_name)\n",
    "dataframe.head()"
   ]
  },
  {
   "cell_type": "markdown",
   "metadata": {
    "id": "ypJTWiewhOVW"
   },
   "source": [
    "Let us answer some basic questions about the dataset. \n",
    "\n",
    "\n",
    "**Q: How many rows does the dataset have?**"
   ]
  },
  {
   "cell_type": "code",
   "execution_count": 13,
   "metadata": {
    "colab": {
     "base_uri": "https://localhost:8080/"
    },
    "executionInfo": {
     "elapsed": 12044,
     "status": "ok",
     "timestamp": 1607787671291,
     "user": {
      "displayName": "Yashvardhan",
      "photoUrl": "https://lh3.googleusercontent.com/a-/AOh14GjOA2bDNbFlzIc87oEVhZJx5P5OImQZnvo7NGr4gg=s64",
      "userId": "12078069401031703493"
     },
     "user_tz": -330
    },
    "id": "gVIdlhGthOVX",
    "outputId": "507b3769-c549-44ea-b748-36621b5f329b"
   },
   "outputs": [
    {
     "name": "stdout",
     "output_type": "stream",
     "text": [
      "1271\n"
     ]
    }
   ],
   "source": [
    "num_rows = len(dataframe)\n",
    "print(num_rows)"
   ]
  },
  {
   "cell_type": "markdown",
   "metadata": {
    "id": "FR5JzJ12hOVY"
   },
   "source": [
    "**Q: How many columns doe the dataset have**"
   ]
  },
  {
   "cell_type": "code",
   "execution_count": 14,
   "metadata": {
    "colab": {
     "base_uri": "https://localhost:8080/"
    },
    "executionInfo": {
     "elapsed": 12008,
     "status": "ok",
     "timestamp": 1607787671293,
     "user": {
      "displayName": "Yashvardhan",
      "photoUrl": "https://lh3.googleusercontent.com/a-/AOh14GjOA2bDNbFlzIc87oEVhZJx5P5OImQZnvo7NGr4gg=s64",
      "userId": "12078069401031703493"
     },
     "user_tz": -330
    },
    "id": "1sOodY-4hOVZ",
    "outputId": "4645ffbc-9313-4b8e-a399-98299d79bfca"
   },
   "outputs": [
    {
     "name": "stdout",
     "output_type": "stream",
     "text": [
      "7\n"
     ]
    }
   ],
   "source": [
    "num_cols = len(dataframe.columns)\n",
    "print(num_cols)"
   ]
  },
  {
   "cell_type": "markdown",
   "metadata": {
    "id": "A92VM-wchOVZ"
   },
   "source": [
    "**Q: What are the column titles of the input variables?**"
   ]
  },
  {
   "cell_type": "code",
   "execution_count": 15,
   "metadata": {
    "colab": {
     "base_uri": "https://localhost:8080/"
    },
    "executionInfo": {
     "elapsed": 11971,
     "status": "ok",
     "timestamp": 1607787671305,
     "user": {
      "displayName": "Yashvardhan",
      "photoUrl": "https://lh3.googleusercontent.com/a-/AOh14GjOA2bDNbFlzIc87oEVhZJx5P5OImQZnvo7NGr4gg=s64",
      "userId": "12078069401031703493"
     },
     "user_tz": -330
    },
    "id": "jZt2KBO9hOVa",
    "outputId": "d515129e-4bd5-475d-df65-ecff9bbe3e7b"
   },
   "outputs": [
    {
     "data": {
      "text/plain": [
       "['age', 'sex', 'bmi', 'children', 'smoker', 'region']"
      ]
     },
     "execution_count": 15,
     "metadata": {
      "tags": []
     },
     "output_type": "execute_result"
    }
   ],
   "source": [
    "input_cols = list(dataframe.columns)[:-1]\r\n",
    "input_cols"
   ]
  },
  {
   "cell_type": "markdown",
   "metadata": {
    "id": "L3r-EoCthOVb"
   },
   "source": [
    "**Q: Which of the input columns are non-numeric or categorial variables ?**\n",
    "\n",
    "Hint: `sex` is one of them. List the columns that are not numbers."
   ]
  },
  {
   "cell_type": "code",
   "execution_count": 16,
   "metadata": {
    "colab": {
     "base_uri": "https://localhost:8080/"
    },
    "executionInfo": {
     "elapsed": 11938,
     "status": "ok",
     "timestamp": 1607787671308,
     "user": {
      "displayName": "Yashvardhan",
      "photoUrl": "https://lh3.googleusercontent.com/a-/AOh14GjOA2bDNbFlzIc87oEVhZJx5P5OImQZnvo7NGr4gg=s64",
      "userId": "12078069401031703493"
     },
     "user_tz": -330
    },
    "id": "2iS_X_yThOVc",
    "outputId": "e44f71cd-7f4d-4e9e-cf26-8f52f368e040"
   },
   "outputs": [
    {
     "data": {
      "text/plain": [
       "Index(['sex', 'smoker', 'region'], dtype='object')"
      ]
     },
     "execution_count": 16,
     "metadata": {
      "tags": []
     },
     "output_type": "execute_result"
    }
   ],
   "source": [
    "categorical_cols = dataframe.select_dtypes(exclude=['number']).columns\r\n",
    "categorical_cols"
   ]
  },
  {
   "cell_type": "markdown",
   "metadata": {
    "id": "3ZxQPhdwhOVd"
   },
   "source": [
    "**Q: What are the column titles of output/target variable(s)?**"
   ]
  },
  {
   "cell_type": "code",
   "execution_count": 17,
   "metadata": {
    "colab": {
     "base_uri": "https://localhost:8080/"
    },
    "executionInfo": {
     "elapsed": 11905,
     "status": "ok",
     "timestamp": 1607787671322,
     "user": {
      "displayName": "Yashvardhan",
      "photoUrl": "https://lh3.googleusercontent.com/a-/AOh14GjOA2bDNbFlzIc87oEVhZJx5P5OImQZnvo7NGr4gg=s64",
      "userId": "12078069401031703493"
     },
     "user_tz": -330
    },
    "id": "tUFYjNRhhOVe",
    "outputId": "b624b891-fa10-4161-fb2f-b506e1006bc0"
   },
   "outputs": [
    {
     "data": {
      "text/plain": [
       "['charges']"
      ]
     },
     "execution_count": 17,
     "metadata": {
      "tags": []
     },
     "output_type": "execute_result"
    }
   ],
   "source": [
    "output_cols = [dataframe.columns[-1]]\r\n",
    "output_cols"
   ]
  },
  {
   "cell_type": "markdown",
   "metadata": {
    "id": "o3nsI5YQhOVe"
   },
   "source": [
    "**Q: (Optional) What is the minimum, maximum and average value of the `charges` column? Can you show the distribution of values in a graph?**\n",
    "Use this data visualization cheatsheet for referece: https://jovian.ml/aakashns/dataviz-cheatsheet"
   ]
  },
  {
   "cell_type": "code",
   "execution_count": 18,
   "metadata": {
    "colab": {
     "base_uri": "https://localhost:8080/"
    },
    "executionInfo": {
     "elapsed": 11875,
     "status": "ok",
     "timestamp": 1607787671325,
     "user": {
      "displayName": "Yashvardhan",
      "photoUrl": "https://lh3.googleusercontent.com/a-/AOh14GjOA2bDNbFlzIc87oEVhZJx5P5OImQZnvo7NGr4gg=s64",
      "userId": "12078069401031703493"
     },
     "user_tz": -330
    },
    "id": "vEOczTOuhOVf",
    "outputId": "7d87298e-94f3-4dde-db24-3b401fd91153"
   },
   "outputs": [
    {
     "name": "stdout",
     "output_type": "stream",
     "text": [
      "Minimum value:- 1290.1549850000001\n",
      "Maximum value:-  73335.99221150001\n",
      "Mean value:- 15386.991450052219\n"
     ]
    }
   ],
   "source": [
    "# Write your answer here\r\n",
    "print(\"Minimum value:- {}\".format(dataframe['charges'].min()))\r\n",
    "print(\"Maximum value:-  {}\".format(dataframe['charges'].max()))\r\n",
    "print(\"Mean value:- {}\".format(dataframe['charges'].mean()))"
   ]
  },
  {
   "cell_type": "markdown",
   "metadata": {
    "id": "kz5bvtGxhOVg"
   },
   "source": [
    "Remember to commit your notebook to Jovian after every step, so that you don't lose your work."
   ]
  },
  {
   "cell_type": "code",
   "execution_count": 19,
   "metadata": {
    "executionInfo": {
     "elapsed": 14144,
     "status": "ok",
     "timestamp": 1607787673624,
     "user": {
      "displayName": "Yashvardhan",
      "photoUrl": "https://lh3.googleusercontent.com/a-/AOh14GjOA2bDNbFlzIc87oEVhZJx5P5OImQZnvo7NGr4gg=s64",
      "userId": "12078069401031703493"
     },
     "user_tz": -330
    },
    "id": "8gGfATRihOVh"
   },
   "outputs": [],
   "source": [
    "!pip install jovian --upgrade -q"
   ]
  },
  {
   "cell_type": "code",
   "execution_count": 20,
   "metadata": {
    "executionInfo": {
     "elapsed": 14114,
     "status": "ok",
     "timestamp": 1607787673626,
     "user": {
      "displayName": "Yashvardhan",
      "photoUrl": "https://lh3.googleusercontent.com/a-/AOh14GjOA2bDNbFlzIc87oEVhZJx5P5OImQZnvo7NGr4gg=s64",
      "userId": "12078069401031703493"
     },
     "user_tz": -330
    },
    "id": "qFBd9M4XhOVi"
   },
   "outputs": [],
   "source": [
    "import jovian"
   ]
  },
  {
   "cell_type": "code",
   "execution_count": 21,
   "metadata": {
    "colab": {
     "base_uri": "https://localhost:8080/",
     "height": 156
    },
    "executionInfo": {
     "elapsed": 34891,
     "status": "ok",
     "timestamp": 1607787694439,
     "user": {
      "displayName": "Yashvardhan",
      "photoUrl": "https://lh3.googleusercontent.com/a-/AOh14GjOA2bDNbFlzIc87oEVhZJx5P5OImQZnvo7NGr4gg=s64",
      "userId": "12078069401031703493"
     },
     "user_tz": -330
    },
    "id": "D7iS8c9-hOVl",
    "outputId": "8a205ad3-4be3-4c26-ac7f-606db2f77948"
   },
   "outputs": [
    {
     "name": "stdout",
     "output_type": "stream",
     "text": [
      "[jovian] Detected Colab notebook...\u001b[0m\n",
      "[jovian] Please enter your API key ( from https://jovian.ai/ ):\u001b[0m\n",
      "API KEY: ··········\n",
      "[jovian] Uploading colab notebook to Jovian...\u001b[0m\n",
      "[jovian] Capturing environment..\u001b[0m\n",
      "[jovian] Committed successfully! https://jovian.ai/vardhanyash20000/02-insurance-linear-regression\u001b[0m\n"
     ]
    },
    {
     "data": {
      "application/vnd.google.colaboratory.intrinsic+json": {
       "type": "string"
      },
      "text/plain": [
       "'https://jovian.ai/vardhanyash20000/02-insurance-linear-regression'"
      ]
     },
     "execution_count": 21,
     "metadata": {
      "tags": []
     },
     "output_type": "execute_result"
    }
   ],
   "source": [
    "jovian.commit(project=project_name)"
   ]
  },
  {
   "cell_type": "markdown",
   "metadata": {
    "id": "DZcltkXNhOVm"
   },
   "source": [
    "## Step 2: Prepare the dataset for training\n",
    "\n",
    "We need to convert the data from the Pandas dataframe into a PyTorch tensors for training. To do this, the first step is to convert it numpy arrays. If you've filled out `input_cols`, `categorial_cols` and `output_cols` correctly, this following function will perform the conversion to numpy arrays."
   ]
  },
  {
   "cell_type": "code",
   "execution_count": 22,
   "metadata": {
    "executionInfo": {
     "elapsed": 34877,
     "status": "ok",
     "timestamp": 1607787694455,
     "user": {
      "displayName": "Yashvardhan",
      "photoUrl": "https://lh3.googleusercontent.com/a-/AOh14GjOA2bDNbFlzIc87oEVhZJx5P5OImQZnvo7NGr4gg=s64",
      "userId": "12078069401031703493"
     },
     "user_tz": -330
    },
    "id": "Hbde1nLbhOVn"
   },
   "outputs": [],
   "source": [
    "def dataframe_to_arrays(dataframe):\n",
    "    # Make a copy of the original dataframe\n",
    "    dataframe1 = dataframe.copy(deep=True)\n",
    "    # Convert non-numeric categorical columns to numbers\n",
    "    for col in categorical_cols:\n",
    "        dataframe1[col] = dataframe1[col].astype('category').cat.codes\n",
    "    # Extract input & outupts as numpy arrays\n",
    "    inputs_array = dataframe1[input_cols].to_numpy()\n",
    "    targets_array = dataframe1[output_cols].to_numpy()\n",
    "    return inputs_array, targets_array"
   ]
  },
  {
   "cell_type": "markdown",
   "metadata": {
    "id": "bleeDgJihOVq"
   },
   "source": [
    "Read through the [Pandas documentation](https://pandas.pydata.org/pandas-docs/stable/user_guide/categorical.html) to understand how we're converting categorical variables into numbers."
   ]
  },
  {
   "cell_type": "code",
   "execution_count": 23,
   "metadata": {
    "colab": {
     "base_uri": "https://localhost:8080/"
    },
    "executionInfo": {
     "elapsed": 34832,
     "status": "ok",
     "timestamp": 1607787694458,
     "user": {
      "displayName": "Yashvardhan",
      "photoUrl": "https://lh3.googleusercontent.com/a-/AOh14GjOA2bDNbFlzIc87oEVhZJx5P5OImQZnvo7NGr4gg=s64",
      "userId": "12078069401031703493"
     },
     "user_tz": -330
    },
    "id": "L0hCyfyIhOVr",
    "outputId": "83a6bb0e-1bba-4aef-ab3c-54a5ee9cebf3"
   },
   "outputs": [
    {
     "data": {
      "text/plain": [
       "(array([[28.    ,  0.    , 32.398 ,  0.    ,  0.    ,  3.    ],\n",
       "        [53.    ,  0.    , 38.412 ,  1.    ,  0.    ,  2.    ],\n",
       "        [49.    ,  0.    , 26.3549,  0.    ,  0.    ,  2.    ],\n",
       "        ...,\n",
       "        [53.    ,  1.    , 40.2259,  0.    ,  0.    ,  2.    ],\n",
       "        [40.    ,  0.    , 27.8293,  3.    ,  0.    ,  1.    ],\n",
       "        [60.    ,  1.    , 23.5904,  0.    ,  0.    ,  1.    ]]),\n",
       " array([[ 3647.8207  ],\n",
       "        [12166.66765 ],\n",
       "        [ 9891.528695],\n",
       "        ...,\n",
       "        [10929.956845],\n",
       "        [ 9268.630965],\n",
       "        [14402.14552 ]]))"
      ]
     },
     "execution_count": 23,
     "metadata": {
      "tags": []
     },
     "output_type": "execute_result"
    }
   ],
   "source": [
    "inputs_array, targets_array = dataframe_to_arrays(dataframe)\n",
    "inputs_array, targets_array"
   ]
  },
  {
   "cell_type": "markdown",
   "metadata": {
    "id": "3DqLhjTLhOVr"
   },
   "source": [
    "**Q: Convert the numpy arrays `inputs_array` and `targets_array` into PyTorch tensors. Make sure that the data type is `torch.float32`.**"
   ]
  },
  {
   "cell_type": "code",
   "execution_count": 24,
   "metadata": {
    "executionInfo": {
     "elapsed": 34816,
     "status": "ok",
     "timestamp": 1607787694462,
     "user": {
      "displayName": "Yashvardhan",
      "photoUrl": "https://lh3.googleusercontent.com/a-/AOh14GjOA2bDNbFlzIc87oEVhZJx5P5OImQZnvo7NGr4gg=s64",
      "userId": "12078069401031703493"
     },
     "user_tz": -330
    },
    "id": "W6NikSIohOVs"
   },
   "outputs": [],
   "source": [
    "inputs = torch.from_numpy(inputs_array).float()\n",
    "targets = torch.from_numpy(targets_array).float()"
   ]
  },
  {
   "cell_type": "code",
   "execution_count": 25,
   "metadata": {
    "colab": {
     "base_uri": "https://localhost:8080/"
    },
    "executionInfo": {
     "elapsed": 34806,
     "status": "ok",
     "timestamp": 1607787694476,
     "user": {
      "displayName": "Yashvardhan",
      "photoUrl": "https://lh3.googleusercontent.com/a-/AOh14GjOA2bDNbFlzIc87oEVhZJx5P5OImQZnvo7NGr4gg=s64",
      "userId": "12078069401031703493"
     },
     "user_tz": -330
    },
    "id": "uLgYEzDShOVt",
    "outputId": "cd52eed1-241a-4645-e4e9-a39a64cdb50d"
   },
   "outputs": [
    {
     "data": {
      "text/plain": [
       "(torch.float32, torch.float32)"
      ]
     },
     "execution_count": 25,
     "metadata": {
      "tags": []
     },
     "output_type": "execute_result"
    }
   ],
   "source": [
    "inputs.dtype, targets.dtype"
   ]
  },
  {
   "cell_type": "markdown",
   "metadata": {
    "id": "xb7izHA3hOVw"
   },
   "source": [
    "Next, we need to create PyTorch datasets & data loaders for training & validation. We'll start by creating a `TensorDataset`."
   ]
  },
  {
   "cell_type": "code",
   "execution_count": 26,
   "metadata": {
    "executionInfo": {
     "elapsed": 34785,
     "status": "ok",
     "timestamp": 1607787694479,
     "user": {
      "displayName": "Yashvardhan",
      "photoUrl": "https://lh3.googleusercontent.com/a-/AOh14GjOA2bDNbFlzIc87oEVhZJx5P5OImQZnvo7NGr4gg=s64",
      "userId": "12078069401031703493"
     },
     "user_tz": -330
    },
    "id": "qGXxYGsjhOVx"
   },
   "outputs": [],
   "source": [
    "dataset = TensorDataset(inputs, targets)"
   ]
  },
  {
   "cell_type": "markdown",
   "metadata": {
    "id": "UWlRO6nmhOVx"
   },
   "source": [
    "**Q: Pick a number between `0.1` and `0.2` to determine the fraction of data that will be used for creating the validation set. Then use `random_split` to create training & validation datasets.**"
   ]
  },
  {
   "cell_type": "code",
   "execution_count": 27,
   "metadata": {
    "executionInfo": {
     "elapsed": 34775,
     "status": "ok",
     "timestamp": 1607787694498,
     "user": {
      "displayName": "Yashvardhan",
      "photoUrl": "https://lh3.googleusercontent.com/a-/AOh14GjOA2bDNbFlzIc87oEVhZJx5P5OImQZnvo7NGr4gg=s64",
      "userId": "12078069401031703493"
     },
     "user_tz": -330
    },
    "id": "9qrxyTRShOVy"
   },
   "outputs": [],
   "source": [
    "val_percent = 0.12 # between 0.1 and 0.2\n",
    "val_size = int(num_rows * val_percent)\n",
    "train_size = num_rows - val_size\n",
    "\n",
    "\n",
    "train_ds, val_ds = random_split(dataset, [train_size, val_size]) # Use the random_split function to split dataset into 2 parts of the desired length"
   ]
  },
  {
   "cell_type": "markdown",
   "metadata": {
    "id": "XHovW-PKhOV1"
   },
   "source": [
    "Finally, we can create data loaders for training & validation.\n",
    "\n",
    "**Q: Pick a batch size for the data loader.**"
   ]
  },
  {
   "cell_type": "code",
   "execution_count": 28,
   "metadata": {
    "executionInfo": {
     "elapsed": 34755,
     "status": "ok",
     "timestamp": 1607787694499,
     "user": {
      "displayName": "Yashvardhan",
      "photoUrl": "https://lh3.googleusercontent.com/a-/AOh14GjOA2bDNbFlzIc87oEVhZJx5P5OImQZnvo7NGr4gg=s64",
      "userId": "12078069401031703493"
     },
     "user_tz": -330
    },
    "id": "IlgFf0gthOV2"
   },
   "outputs": [],
   "source": [
    "batch_size = 60"
   ]
  },
  {
   "cell_type": "code",
   "execution_count": 29,
   "metadata": {
    "executionInfo": {
     "elapsed": 34736,
     "status": "ok",
     "timestamp": 1607787694502,
     "user": {
      "displayName": "Yashvardhan",
      "photoUrl": "https://lh3.googleusercontent.com/a-/AOh14GjOA2bDNbFlzIc87oEVhZJx5P5OImQZnvo7NGr4gg=s64",
      "userId": "12078069401031703493"
     },
     "user_tz": -330
    },
    "id": "ZhByM4szhOV3"
   },
   "outputs": [],
   "source": [
    "train_loader = DataLoader(train_ds, batch_size, shuffle=True)\n",
    "val_loader = DataLoader(val_ds, batch_size)"
   ]
  },
  {
   "cell_type": "markdown",
   "metadata": {
    "id": "m6HrUu-jhOV4"
   },
   "source": [
    "Let's look at a batch of data to verify everything is working fine so far."
   ]
  },
  {
   "cell_type": "code",
   "execution_count": 30,
   "metadata": {
    "colab": {
     "base_uri": "https://localhost:8080/"
    },
    "executionInfo": {
     "elapsed": 34726,
     "status": "ok",
     "timestamp": 1607787694510,
     "user": {
      "displayName": "Yashvardhan",
      "photoUrl": "https://lh3.googleusercontent.com/a-/AOh14GjOA2bDNbFlzIc87oEVhZJx5P5OImQZnvo7NGr4gg=s64",
      "userId": "12078069401031703493"
     },
     "user_tz": -330
    },
    "id": "i_r9h3NshOV7",
    "outputId": "4449b731-bc9f-416d-9e9e-f9ae82025fa4"
   },
   "outputs": [
    {
     "name": "stdout",
     "output_type": "stream",
     "text": [
      "inputs: tensor([[32.0000,  0.0000, 28.8430,  0.0000,  0.0000,  1.0000],\n",
      "        [60.0000,  0.0000, 23.3139,  0.0000,  0.0000,  1.0000],\n",
      "        [48.0000,  0.0000, 22.1160,  0.0000,  0.0000,  3.0000],\n",
      "        [19.0000,  1.0000, 20.2730,  1.0000,  0.0000,  3.0000],\n",
      "        [38.0000,  0.0000, 27.1600,  3.0000,  0.0000,  3.0000],\n",
      "        [28.0000,  1.0000, 35.3080,  1.0000,  1.0000,  3.0000],\n",
      "        [33.0000,  1.0000, 34.1876,  0.0000,  0.0000,  0.0000],\n",
      "        [56.0000,  0.0000, 34.7260,  1.0000,  0.0000,  3.0000],\n",
      "        [43.0000,  1.0000, 25.2491,  0.0000,  0.0000,  0.0000],\n",
      "        [55.0000,  0.0000, 34.1440,  0.0000,  1.0000,  2.0000],\n",
      "        [28.0000,  1.0000, 23.5710,  5.0000,  0.0000,  3.0000],\n",
      "        [28.0000,  0.0000, 23.5904,  1.0000,  0.0000,  0.0000],\n",
      "        [37.0000,  0.0000, 46.1720,  2.0000,  1.0000,  3.0000],\n",
      "        [57.0000,  1.0000, 39.7166,  0.0000,  0.0000,  0.0000],\n",
      "        [30.0000,  1.0000, 30.4580,  1.0000,  0.0000,  3.0000],\n",
      "        [34.0000,  0.0000, 28.3822,  3.0000,  0.0000,  2.0000],\n",
      "        [43.0000,  0.0000, 24.5119,  1.0000,  1.0000,  0.0000],\n",
      "        [38.0000,  0.0000, 36.5981,  0.0000,  0.0000,  2.0000],\n",
      "        [51.0000,  1.0000, 35.8900,  0.0000,  0.0000,  3.0000],\n",
      "        [58.0000,  1.0000, 36.8600,  0.0000,  0.0000,  3.0000],\n",
      "        [46.0000,  0.0000, 27.2085,  1.0000,  0.0000,  2.0000],\n",
      "        [33.0000,  0.0000, 27.4219,  1.0000,  0.0000,  2.0000],\n",
      "        [20.0000,  0.0000, 30.9624,  0.0000,  0.0000,  1.0000],\n",
      "        [51.0000,  1.0000, 26.9078,  1.0000,  0.0000,  0.0000],\n",
      "        [57.0000,  0.0000, 23.2606,  1.0000,  0.0000,  2.0000],\n",
      "        [35.0000,  0.0000, 42.0398,  2.0000,  0.0000,  2.0000],\n",
      "        [47.0000,  1.0000, 28.9351,  3.0000,  0.0000,  1.0000],\n",
      "        [19.0000,  0.0000, 29.5802,  0.0000,  0.0000,  1.0000],\n",
      "        [34.0000,  1.0000, 33.1837,  0.0000,  0.0000,  2.0000],\n",
      "        [53.0000,  0.0000, 32.2525,  0.0000,  0.0000,  0.0000],\n",
      "        [47.0000,  0.0000, 28.4889,  1.0000,  0.0000,  2.0000],\n",
      "        [31.0000,  1.0000, 33.3583,  3.0000,  1.0000,  1.0000],\n",
      "        [18.0000,  0.0000, 29.2115,  0.0000,  0.0000,  0.0000],\n",
      "        [45.0000,  0.0000, 32.1070,  0.0000,  0.0000,  3.0000],\n",
      "        [27.0000,  0.0000, 24.4198,  0.0000,  0.0000,  0.0000],\n",
      "        [22.0000,  1.0000, 27.4607,  1.0000,  0.0000,  1.0000],\n",
      "        [18.0000,  0.0000, 40.9728,  0.0000,  1.0000,  2.0000],\n",
      "        [34.0000,  0.0000, 32.2525,  1.0000,  0.0000,  0.0000],\n",
      "        [59.0000,  1.0000, 24.6962,  0.0000,  0.0000,  1.0000],\n",
      "        [62.0000,  0.0000, 31.9760,  3.0000,  0.0000,  1.0000],\n",
      "        [62.0000,  0.0000, 35.7542,  1.0000,  0.0000,  0.0000],\n",
      "        [56.0000,  1.0000, 32.6502,  4.0000,  0.0000,  2.0000],\n",
      "        [32.0000,  0.0000, 19.9044,  0.0000,  0.0000,  0.0000],\n",
      "        [52.0000,  1.0000, 46.3078,  1.0000,  0.0000,  2.0000],\n",
      "        [30.0000,  1.0000, 23.6680,  3.0000,  1.0000,  3.0000],\n",
      "        [52.0000,  1.0000, 31.2388,  3.0000,  0.0000,  0.0000],\n",
      "        [58.0000,  1.0000, 29.3958,  0.0000,  0.0000,  0.0000],\n",
      "        [42.0000,  0.0000, 24.5410,  1.0000,  0.0000,  3.0000],\n",
      "        [19.0000,  1.0000, 34.4641,  0.0000,  0.0000,  1.0000],\n",
      "        [42.0000,  1.0000, 27.4607,  3.0000,  1.0000,  1.0000],\n",
      "        [54.0000,  0.0000, 45.2990,  2.0000,  0.0000,  3.0000],\n",
      "        [40.0000,  0.0000, 35.1043,  0.0000,  0.0000,  2.0000],\n",
      "        [18.0000,  0.0000, 27.3685,  0.0000,  0.0000,  0.0000],\n",
      "        [43.0000,  1.0000, 36.9182,  2.0000,  1.0000,  2.0000],\n",
      "        [55.0000,  1.0000, 28.1057,  0.0000,  0.0000,  0.0000],\n",
      "        [53.0000,  0.0000, 24.0511,  1.0000,  0.0000,  1.0000],\n",
      "        [48.0000,  0.0000, 31.2631,  1.0000,  0.0000,  2.0000],\n",
      "        [30.0000,  0.0000, 32.3301,  1.0000,  0.0000,  2.0000],\n",
      "        [56.0000,  0.0000, 24.5410,  0.0000,  0.0000,  3.0000],\n",
      "        [35.0000,  0.0000, 25.3412,  0.0000,  0.0000,  0.0000]])\n",
      "targets: tensor([[ 5010.6001],\n",
      "        [14964.0400],\n",
      "        [ 9509.4004],\n",
      "        [ 2106.9082],\n",
      "        [ 8223.7559],\n",
      "        [58873.7422],\n",
      "        [14265.6113],\n",
      "        [13425.2490],\n",
      "        [ 7862.9741],\n",
      "        [51087.3750],\n",
      "        [ 6457.6743],\n",
      "        [26782.2676],\n",
      "        [53030.5391],\n",
      "        [13301.2461],\n",
      "        [ 4208.2480],\n",
      "        [ 7111.9443],\n",
      "        [25037.0430],\n",
      "        [ 6207.2593],\n",
      "        [10118.3818],\n",
      "        [13070.8447],\n",
      "        [ 9468.0625],\n",
      "        [ 5496.5425],\n",
      "        [ 2600.8042],\n",
      "        [11451.3799],\n",
      "        [25521.3027],\n",
      "        [ 6723.9551],\n",
      "        [11063.3799],\n",
      "        [ 2447.6958],\n",
      "        [ 4525.4570],\n",
      "        [12149.6172],\n",
      "        [ 9829.8447],\n",
      "        [44558.3086],\n",
      "        [ 2533.9927],\n",
      "        [ 8446.8467],\n",
      "        [ 4092.4133],\n",
      "        [ 3034.8994],\n",
      "        [44611.5898],\n",
      "        [ 6434.0723],\n",
      "        [13943.7412],\n",
      "        [17954.0215],\n",
      "        [36363.0000],\n",
      "        [14891.5283],\n",
      "        [ 5225.8701],\n",
      "        [11211.2471],\n",
      "        [20998.0977],\n",
      "        [13211.5645],\n",
      "        [13728.9941],\n",
      "        [ 8102.3237],\n",
      "        [ 1893.3942],\n",
      "        [37705.5781],\n",
      "        [13269.1846],\n",
      "        [ 6808.1196],\n",
      "        [ 2530.9556],\n",
      "        [48944.4961],\n",
      "        [12415.8027],\n",
      "        [12583.4521],\n",
      "        [10201.8242],\n",
      "        [ 4773.6831],\n",
      "        [12731.1152],\n",
      "        [ 6012.1870]])\n"
     ]
    }
   ],
   "source": [
    "for xb, yb in train_loader:\n",
    "    print(\"inputs:\", xb)\n",
    "    print(\"targets:\", yb)\n",
    "    break"
   ]
  },
  {
   "cell_type": "markdown",
   "metadata": {
    "id": "_t6lWW6QhOV8"
   },
   "source": [
    "Let's save our work by committing to Jovian."
   ]
  },
  {
   "cell_type": "code",
   "execution_count": 31,
   "metadata": {
    "colab": {
     "base_uri": "https://localhost:8080/",
     "height": 106
    },
    "executionInfo": {
     "elapsed": 37850,
     "status": "ok",
     "timestamp": 1607787697685,
     "user": {
      "displayName": "Yashvardhan",
      "photoUrl": "https://lh3.googleusercontent.com/a-/AOh14GjOA2bDNbFlzIc87oEVhZJx5P5OImQZnvo7NGr4gg=s64",
      "userId": "12078069401031703493"
     },
     "user_tz": -330
    },
    "id": "GFqh2189hOV9",
    "outputId": "27ea79d2-db22-495e-cce4-d398d30948a2"
   },
   "outputs": [
    {
     "name": "stdout",
     "output_type": "stream",
     "text": [
      "[jovian] Detected Colab notebook...\u001b[0m\n",
      "[jovian] Uploading colab notebook to Jovian...\u001b[0m\n",
      "[jovian] Committed successfully! https://jovian.ai/vardhanyash20000/02-insurance-linear-regression\u001b[0m\n"
     ]
    },
    {
     "data": {
      "application/vnd.google.colaboratory.intrinsic+json": {
       "type": "string"
      },
      "text/plain": [
       "'https://jovian.ai/vardhanyash20000/02-insurance-linear-regression'"
      ]
     },
     "execution_count": 31,
     "metadata": {
      "tags": []
     },
     "output_type": "execute_result"
    }
   ],
   "source": [
    "jovian.commit(project=project_name, environment=None)"
   ]
  },
  {
   "cell_type": "markdown",
   "metadata": {
    "id": "lAIcq331hOWA"
   },
   "source": [
    "## Step 3: Create a Linear Regression Model\n",
    "\n",
    "Our model itself is a fairly straightforward linear regression (we'll build more complex models in the next assignment). \n"
   ]
  },
  {
   "cell_type": "code",
   "execution_count": 32,
   "metadata": {
    "executionInfo": {
     "elapsed": 37808,
     "status": "ok",
     "timestamp": 1607787697693,
     "user": {
      "displayName": "Yashvardhan",
      "photoUrl": "https://lh3.googleusercontent.com/a-/AOh14GjOA2bDNbFlzIc87oEVhZJx5P5OImQZnvo7NGr4gg=s64",
      "userId": "12078069401031703493"
     },
     "user_tz": -330
    },
    "id": "saMvsPqihOWC"
   },
   "outputs": [],
   "source": [
    "input_size = len(input_cols)\n",
    "output_size = len(output_cols)"
   ]
  },
  {
   "cell_type": "markdown",
   "metadata": {
    "id": "HqFda7RrhOWD"
   },
   "source": [
    "**Q: Complete the class definition below by filling out the constructor (`__init__`), `forward`, `training_step` and `validation_step` methods.**\n",
    "\n",
    "Hint: Think carefully about picking a good loss fuction (it's not cross entropy). Maybe try 2-3 of them and see which one works best. See https://pytorch.org/docs/stable/nn.functional.html#loss-functions"
   ]
  },
  {
   "cell_type": "code",
   "execution_count": 33,
   "metadata": {
    "executionInfo": {
     "elapsed": 37803,
     "status": "ok",
     "timestamp": 1607787697701,
     "user": {
      "displayName": "Yashvardhan",
      "photoUrl": "https://lh3.googleusercontent.com/a-/AOh14GjOA2bDNbFlzIc87oEVhZJx5P5OImQZnvo7NGr4gg=s64",
      "userId": "12078069401031703493"
     },
     "user_tz": -330
    },
    "id": "MZY5lAuihOWF"
   },
   "outputs": [],
   "source": [
    "class InsuranceModel(nn.Module):\n",
    "    def __init__(self):\n",
    "        super().__init__()\n",
    "        self.linear = nn.Linear(input_size, output_size)                  # fill this (hint: use input_size & output_size defined above)\n",
    "        \n",
    "    def forward(self, xb):\n",
    "        out = self.linear(xb)                         # fill this\n",
    "        return out\n",
    "    \n",
    "    def training_step(self, batch):\n",
    "        inputs, targets = batch \n",
    "        # Generate predictions\n",
    "        out = self(inputs)          \n",
    "        # Calcuate loss\n",
    "        loss = F.l1_loss(out, targets)                          # fill this\n",
    "        return loss\n",
    "    \n",
    "    def validation_step(self, batch):\n",
    "        inputs, targets = batch\n",
    "        # Generate predictions\n",
    "        out = self(inputs)\n",
    "        # Calculate loss\n",
    "        loss = F.l1_loss(out, targets)                          # fill this    \n",
    "        return {'val_loss': loss.detach()}\n",
    "        \n",
    "    def validation_epoch_end(self, outputs):\n",
    "        batch_losses = [x['val_loss'] for x in outputs]\n",
    "        epoch_loss = torch.stack(batch_losses).mean()   # Combine losses\n",
    "        return {'val_loss': epoch_loss.item()}\n",
    "    \n",
    "    def epoch_end(self, epoch, result, num_epochs):\n",
    "        # Print result every 20th epoch\n",
    "        if (epoch+1) % 20 == 0 or epoch == num_epochs-1:\n",
    "            print(\"Epoch [{}], val_loss: {:.4f}\".format(epoch+1, result['val_loss']))"
   ]
  },
  {
   "cell_type": "markdown",
   "metadata": {
    "id": "AEXU4orxhOWG"
   },
   "source": [
    "Let us create a model using the `InsuranceModel` class. You may need to come back later and re-run the next cell to reinitialize the model, in case the loss becomes `nan` or `infinity`."
   ]
  },
  {
   "cell_type": "code",
   "execution_count": 34,
   "metadata": {
    "executionInfo": {
     "elapsed": 37785,
     "status": "ok",
     "timestamp": 1607787697703,
     "user": {
      "displayName": "Yashvardhan",
      "photoUrl": "https://lh3.googleusercontent.com/a-/AOh14GjOA2bDNbFlzIc87oEVhZJx5P5OImQZnvo7NGr4gg=s64",
      "userId": "12078069401031703493"
     },
     "user_tz": -330
    },
    "id": "MD0W42JEhOWM"
   },
   "outputs": [],
   "source": [
    "model = InsuranceModel()"
   ]
  },
  {
   "cell_type": "markdown",
   "metadata": {
    "id": "SUq6eCbWhOWN"
   },
   "source": [
    "Let's check out the weights and biases of the model using `model.parameters`."
   ]
  },
  {
   "cell_type": "code",
   "execution_count": 35,
   "metadata": {
    "colab": {
     "base_uri": "https://localhost:8080/"
    },
    "executionInfo": {
     "elapsed": 37758,
     "status": "ok",
     "timestamp": 1607787697705,
     "user": {
      "displayName": "Yashvardhan",
      "photoUrl": "https://lh3.googleusercontent.com/a-/AOh14GjOA2bDNbFlzIc87oEVhZJx5P5OImQZnvo7NGr4gg=s64",
      "userId": "12078069401031703493"
     },
     "user_tz": -330
    },
    "id": "Og4lpERohOWP",
    "outputId": "bb1650bd-73c4-4ee3-e46b-3aa1b5c3535b"
   },
   "outputs": [
    {
     "data": {
      "text/plain": [
       "[Parameter containing:\n",
       " tensor([[-0.4028, -0.1777,  0.2651, -0.2925,  0.0241,  0.2872]],\n",
       "        requires_grad=True), Parameter containing:\n",
       " tensor([-0.0637], requires_grad=True)]"
      ]
     },
     "execution_count": 35,
     "metadata": {
      "tags": []
     },
     "output_type": "execute_result"
    }
   ],
   "source": [
    "list(model.parameters())"
   ]
  },
  {
   "cell_type": "markdown",
   "metadata": {
    "id": "Z1fwolUZhOWQ"
   },
   "source": [
    "One final commit before we train the model."
   ]
  },
  {
   "cell_type": "code",
   "execution_count": 36,
   "metadata": {
    "colab": {
     "base_uri": "https://localhost:8080/",
     "height": 106
    },
    "executionInfo": {
     "elapsed": 38428,
     "status": "ok",
     "timestamp": 1607787698422,
     "user": {
      "displayName": "Yashvardhan",
      "photoUrl": "https://lh3.googleusercontent.com/a-/AOh14GjOA2bDNbFlzIc87oEVhZJx5P5OImQZnvo7NGr4gg=s64",
      "userId": "12078069401031703493"
     },
     "user_tz": -330
    },
    "id": "B3h9s6vQhOWR",
    "outputId": "ba98322f-2e20-4c34-8294-fc08886253ea"
   },
   "outputs": [
    {
     "name": "stdout",
     "output_type": "stream",
     "text": [
      "[jovian] Detected Colab notebook...\u001b[0m\n",
      "[jovian] Uploading colab notebook to Jovian...\u001b[0m\n",
      "[jovian] Committed successfully! https://jovian.ai/vardhanyash20000/02-insurance-linear-regression\u001b[0m\n"
     ]
    },
    {
     "data": {
      "application/vnd.google.colaboratory.intrinsic+json": {
       "type": "string"
      },
      "text/plain": [
       "'https://jovian.ai/vardhanyash20000/02-insurance-linear-regression'"
      ]
     },
     "execution_count": 36,
     "metadata": {
      "tags": []
     },
     "output_type": "execute_result"
    }
   ],
   "source": [
    "jovian.commit(project=project_name, environment=None)"
   ]
  },
  {
   "cell_type": "markdown",
   "metadata": {
    "id": "gKbX7hvDhOWS"
   },
   "source": [
    "## Step 4: Train the model to fit the data\n",
    "\n",
    "To train our model, we'll use the same `fit` function explained in the lecture. That's the benefit of defining a generic training loop - you can use it for any problem."
   ]
  },
  {
   "cell_type": "code",
   "execution_count": 37,
   "metadata": {
    "executionInfo": {
     "elapsed": 38325,
     "status": "ok",
     "timestamp": 1607787698434,
     "user": {
      "displayName": "Yashvardhan",
      "photoUrl": "https://lh3.googleusercontent.com/a-/AOh14GjOA2bDNbFlzIc87oEVhZJx5P5OImQZnvo7NGr4gg=s64",
      "userId": "12078069401031703493"
     },
     "user_tz": -330
    },
    "id": "pBcxehIshOWT"
   },
   "outputs": [],
   "source": [
    "def evaluate(model, val_loader):\n",
    "    outputs = [model.validation_step(batch) for batch in val_loader]\n",
    "    return model.validation_epoch_end(outputs)\n",
    "\n",
    "def fit(epochs, lr, model, train_loader, val_loader, opt_func=torch.optim.SGD):\n",
    "    history = []\n",
    "    optimizer = opt_func(model.parameters(), lr)\n",
    "    for epoch in range(epochs):\n",
    "        # Training Phase \n",
    "        for batch in train_loader:\n",
    "            loss = model.training_step(batch)\n",
    "            loss.backward()\n",
    "            optimizer.step()\n",
    "            optimizer.zero_grad()\n",
    "        # Validation phase\n",
    "        result = evaluate(model, val_loader)\n",
    "        model.epoch_end(epoch, result, epochs)\n",
    "        history.append(result)\n",
    "    return history"
   ]
  },
  {
   "cell_type": "markdown",
   "metadata": {
    "id": "T9fV-BMyhOWT"
   },
   "source": [
    "**Q: Use the `evaluate` function to calculate the loss on the validation set before training.**"
   ]
  },
  {
   "cell_type": "code",
   "execution_count": 58,
   "metadata": {
    "colab": {
     "base_uri": "https://localhost:8080/"
    },
    "executionInfo": {
     "elapsed": 1375,
     "status": "ok",
     "timestamp": 1607787946873,
     "user": {
      "displayName": "Yashvardhan",
      "photoUrl": "https://lh3.googleusercontent.com/a-/AOh14GjOA2bDNbFlzIc87oEVhZJx5P5OImQZnvo7NGr4gg=s64",
      "userId": "12078069401031703493"
     },
     "user_tz": -330
    },
    "id": "OESOCpANhOWV",
    "outputId": "1fbe3482-5faa-48af-cb10-d855533386cf"
   },
   "outputs": [
    {
     "name": "stdout",
     "output_type": "stream",
     "text": [
      "{'val_loss': 3348.004150390625}\n"
     ]
    }
   ],
   "source": [
    "result =  evaluate(model,val_loader) # Use the the evaluate function\n",
    "print(result)"
   ]
  },
  {
   "cell_type": "markdown",
   "metadata": {
    "id": "a4rIhjgFhOWW"
   },
   "source": [
    "\n",
    "We are now ready to train the model. You may need to run the training loop many times, for different number of epochs and with different learning rates, to get a good result. Also, if your loss becomes too large (or `nan`), you may have to re-initialize the model by running the cell `model = InsuranceModel()`. Experiment with this for a while, and try to get to as low a loss as possible."
   ]
  },
  {
   "cell_type": "markdown",
   "metadata": {
    "id": "h-3CCfvIhOWW"
   },
   "source": [
    "**Q: Train the model 4-5 times with different learning rates & for different number of epochs.**\n",
    "\n",
    "Hint: Vary learning rates by orders of 10 (e.g. `1e-2`, `1e-3`, `1e-4`, `1e-5`, `1e-6`) to figure out what works."
   ]
  },
  {
   "cell_type": "code",
   "execution_count": 39,
   "metadata": {
    "colab": {
     "base_uri": "https://localhost:8080/"
    },
    "executionInfo": {
     "elapsed": 58151,
     "status": "ok",
     "timestamp": 1607787718366,
     "user": {
      "displayName": "Yashvardhan",
      "photoUrl": "https://lh3.googleusercontent.com/a-/AOh14GjOA2bDNbFlzIc87oEVhZJx5P5OImQZnvo7NGr4gg=s64",
      "userId": "12078069401031703493"
     },
     "user_tz": -330
    },
    "id": "EFFJtGi5hOWX",
    "outputId": "36f8f6db-5f93-4762-eebd-bcd9013871e3"
   },
   "outputs": [
    {
     "name": "stdout",
     "output_type": "stream",
     "text": [
      "Epoch [20], val_loss: 7320.7134\n",
      "Epoch [40], val_loss: 7175.2036\n",
      "Epoch [60], val_loss: 7069.3042\n",
      "Epoch [80], val_loss: 6972.8809\n",
      "Epoch [100], val_loss: 6883.7563\n",
      "Epoch [120], val_loss: 6797.2480\n",
      "Epoch [140], val_loss: 6718.6860\n",
      "Epoch [160], val_loss: 6653.9727\n",
      "Epoch [180], val_loss: 6598.9590\n",
      "Epoch [200], val_loss: 6560.1777\n",
      "Epoch [220], val_loss: 6532.3091\n",
      "Epoch [240], val_loss: 6512.7344\n",
      "Epoch [260], val_loss: 6503.8745\n",
      "Epoch [280], val_loss: 6493.1030\n",
      "Epoch [300], val_loss: 6491.5742\n",
      "Epoch [320], val_loss: 6490.7983\n",
      "Epoch [340], val_loss: 6492.4438\n",
      "Epoch [360], val_loss: 6490.8530\n",
      "Epoch [380], val_loss: 6488.6772\n",
      "Epoch [400], val_loss: 6486.9609\n",
      "Epoch [420], val_loss: 6486.0015\n",
      "Epoch [440], val_loss: 6484.6890\n",
      "Epoch [460], val_loss: 6484.1406\n",
      "Epoch [480], val_loss: 6484.4019\n",
      "Epoch [500], val_loss: 6481.4800\n",
      "Epoch [520], val_loss: 6479.2891\n",
      "Epoch [540], val_loss: 6478.7734\n",
      "Epoch [560], val_loss: 6477.4077\n",
      "Epoch [580], val_loss: 6476.8809\n",
      "Epoch [600], val_loss: 6475.6138\n",
      "Epoch [620], val_loss: 6474.6211\n",
      "Epoch [640], val_loss: 6472.8359\n",
      "Epoch [660], val_loss: 6473.7852\n",
      "Epoch [680], val_loss: 6470.8223\n",
      "Epoch [700], val_loss: 6468.0684\n",
      "Epoch [720], val_loss: 6468.8813\n",
      "Epoch [740], val_loss: 6469.2329\n",
      "Epoch [760], val_loss: 6471.5806\n",
      "Epoch [780], val_loss: 6465.4478\n",
      "Epoch [800], val_loss: 6464.5649\n",
      "Epoch [820], val_loss: 6465.2891\n",
      "Epoch [840], val_loss: 6465.7749\n",
      "Epoch [860], val_loss: 6465.1851\n",
      "Epoch [880], val_loss: 6462.7397\n",
      "Epoch [900], val_loss: 6462.3843\n",
      "Epoch [920], val_loss: 6460.8657\n",
      "Epoch [940], val_loss: 6458.1187\n",
      "Epoch [960], val_loss: 6458.2104\n",
      "Epoch [980], val_loss: 6457.6802\n",
      "Epoch [1000], val_loss: 6455.7070\n",
      "Epoch [1020], val_loss: 6454.4644\n",
      "Epoch [1040], val_loss: 6451.0430\n",
      "Epoch [1060], val_loss: 6451.4785\n",
      "Epoch [1080], val_loss: 6449.4048\n",
      "Epoch [1100], val_loss: 6449.2310\n"
     ]
    }
   ],
   "source": [
    "epochs = 1100\n",
    "lr = 2e-2\n",
    "history2 = fit(epochs, lr, model, train_loader, val_loader)"
   ]
  },
  {
   "cell_type": "code",
   "execution_count": 40,
   "metadata": {
    "colab": {
     "base_uri": "https://localhost:8080/"
    },
    "executionInfo": {
     "elapsed": 78990,
     "status": "ok",
     "timestamp": 1607787739257,
     "user": {
      "displayName": "Yashvardhan",
      "photoUrl": "https://lh3.googleusercontent.com/a-/AOh14GjOA2bDNbFlzIc87oEVhZJx5P5OImQZnvo7NGr4gg=s64",
      "userId": "12078069401031703493"
     },
     "user_tz": -330
    },
    "id": "7b33wUHWhOWY",
    "outputId": "330d49ee-c9f2-4103-deea-67fff6dac91f"
   },
   "outputs": [
    {
     "name": "stdout",
     "output_type": "stream",
     "text": [
      "Epoch [20], val_loss: 6400.5532\n",
      "Epoch [40], val_loss: 6390.0000\n",
      "Epoch [60], val_loss: 6388.0884\n",
      "Epoch [80], val_loss: 6352.5469\n",
      "Epoch [100], val_loss: 6381.7773\n",
      "Epoch [120], val_loss: 6317.3008\n",
      "Epoch [140], val_loss: 6307.5913\n",
      "Epoch [160], val_loss: 6333.4648\n",
      "Epoch [180], val_loss: 6290.2593\n",
      "Epoch [200], val_loss: 6278.1333\n",
      "Epoch [220], val_loss: 6269.7524\n",
      "Epoch [240], val_loss: 6296.8726\n",
      "Epoch [260], val_loss: 6268.2266\n",
      "Epoch [280], val_loss: 6242.1426\n",
      "Epoch [300], val_loss: 6313.6235\n",
      "Epoch [320], val_loss: 6224.7441\n",
      "Epoch [340], val_loss: 6268.0405\n",
      "Epoch [360], val_loss: 6210.3574\n",
      "Epoch [380], val_loss: 6233.0815\n",
      "Epoch [400], val_loss: 6193.8491\n",
      "Epoch [420], val_loss: 6180.8062\n",
      "Epoch [440], val_loss: 6172.2520\n",
      "Epoch [460], val_loss: 6189.2202\n",
      "Epoch [480], val_loss: 6156.7148\n",
      "Epoch [500], val_loss: 6149.6489\n",
      "Epoch [520], val_loss: 6142.2363\n",
      "Epoch [540], val_loss: 6210.0547\n",
      "Epoch [560], val_loss: 6223.5220\n",
      "Epoch [580], val_loss: 6119.4917\n",
      "Epoch [600], val_loss: 6126.5093\n",
      "Epoch [620], val_loss: 6108.5610\n",
      "Epoch [640], val_loss: 6102.0762\n",
      "Epoch [660], val_loss: 6080.3589\n",
      "Epoch [680], val_loss: 6128.6797\n",
      "Epoch [700], val_loss: 6136.5024\n",
      "Epoch [720], val_loss: 6052.4038\n",
      "Epoch [740], val_loss: 6042.6274\n",
      "Epoch [760], val_loss: 6033.2578\n",
      "Epoch [780], val_loss: 6073.3218\n",
      "Epoch [800], val_loss: 6062.0337\n",
      "Epoch [820], val_loss: 6026.4551\n",
      "Epoch [840], val_loss: 6025.5493\n",
      "Epoch [860], val_loss: 6025.9634\n",
      "Epoch [880], val_loss: 6043.4844\n",
      "Epoch [900], val_loss: 6087.3809\n",
      "Epoch [920], val_loss: 6021.9204\n",
      "Epoch [940], val_loss: 5966.8320\n",
      "Epoch [960], val_loss: 6006.5933\n",
      "Epoch [980], val_loss: 5960.5806\n",
      "Epoch [1000], val_loss: 5944.3188\n",
      "Epoch [1020], val_loss: 5949.7168\n",
      "Epoch [1040], val_loss: 5911.8555\n",
      "Epoch [1060], val_loss: 5935.1812\n",
      "Epoch [1080], val_loss: 5908.7612\n",
      "Epoch [1100], val_loss: 5905.5952\n"
     ]
    }
   ],
   "source": [
    "epochs = 1100\n",
    "lr = 5e-1\n",
    "history3 = fit(epochs, lr, model, train_loader, val_loader)"
   ]
  },
  {
   "cell_type": "code",
   "execution_count": 41,
   "metadata": {
    "colab": {
     "base_uri": "https://localhost:8080/"
    },
    "executionInfo": {
     "elapsed": 98165,
     "status": "ok",
     "timestamp": 1607787758493,
     "user": {
      "displayName": "Yashvardhan",
      "photoUrl": "https://lh3.googleusercontent.com/a-/AOh14GjOA2bDNbFlzIc87oEVhZJx5P5OImQZnvo7NGr4gg=s64",
      "userId": "12078069401031703493"
     },
     "user_tz": -330
    },
    "id": "ccCl4z5ShOWZ",
    "outputId": "d0ab6801-950e-4797-ebd9-cd9888ed61a8"
   },
   "outputs": [
    {
     "name": "stdout",
     "output_type": "stream",
     "text": [
      "Epoch [20], val_loss: 5905.1655\n",
      "Epoch [40], val_loss: 5880.3325\n",
      "Epoch [60], val_loss: 5878.9038\n",
      "Epoch [80], val_loss: 5870.1577\n",
      "Epoch [100], val_loss: 5870.7285\n",
      "Epoch [120], val_loss: 5847.0874\n",
      "Epoch [140], val_loss: 5841.1953\n",
      "Epoch [160], val_loss: 5853.4644\n",
      "Epoch [180], val_loss: 5894.4258\n",
      "Epoch [200], val_loss: 5863.7407\n",
      "Epoch [220], val_loss: 5829.4946\n",
      "Epoch [240], val_loss: 5878.8052\n",
      "Epoch [260], val_loss: 5820.7358\n",
      "Epoch [280], val_loss: 5803.9688\n",
      "Epoch [300], val_loss: 5810.0396\n",
      "Epoch [320], val_loss: 5818.3892\n",
      "Epoch [340], val_loss: 5793.3901\n",
      "Epoch [360], val_loss: 5839.8120\n",
      "Epoch [380], val_loss: 5833.5410\n",
      "Epoch [400], val_loss: 5780.9048\n",
      "Epoch [420], val_loss: 5777.5059\n",
      "Epoch [440], val_loss: 5774.6548\n",
      "Epoch [460], val_loss: 5767.5176\n",
      "Epoch [480], val_loss: 5774.2969\n",
      "Epoch [500], val_loss: 5759.2168\n",
      "Epoch [520], val_loss: 5742.7446\n",
      "Epoch [540], val_loss: 5760.2949\n",
      "Epoch [560], val_loss: 5739.5913\n",
      "Epoch [580], val_loss: 5765.0039\n",
      "Epoch [600], val_loss: 5775.6094\n",
      "Epoch [620], val_loss: 5744.6289\n",
      "Epoch [640], val_loss: 5724.5093\n",
      "Epoch [660], val_loss: 5728.3296\n",
      "Epoch [680], val_loss: 5703.0312\n",
      "Epoch [700], val_loss: 5711.6250\n",
      "Epoch [720], val_loss: 5725.2192\n",
      "Epoch [740], val_loss: 5708.7188\n",
      "Epoch [760], val_loss: 5683.1172\n",
      "Epoch [780], val_loss: 5706.0142\n",
      "Epoch [800], val_loss: 5689.9004\n",
      "Epoch [820], val_loss: 5670.2480\n",
      "Epoch [840], val_loss: 5705.2422\n",
      "Epoch [860], val_loss: 5685.9399\n",
      "Epoch [880], val_loss: 5665.3071\n",
      "Epoch [900], val_loss: 5655.8354\n",
      "Epoch [920], val_loss: 5648.2866\n",
      "Epoch [940], val_loss: 5641.4409\n",
      "Epoch [960], val_loss: 5632.8774\n",
      "Epoch [980], val_loss: 5630.1655\n",
      "Epoch [1000], val_loss: 5618.8267\n",
      "Epoch [1020], val_loss: 5637.5522\n",
      "Epoch [1040], val_loss: 5610.7617\n",
      "Epoch [1060], val_loss: 5622.2251\n",
      "Epoch [1080], val_loss: 5625.1367\n",
      "Epoch [1100], val_loss: 5596.7192\n"
     ]
    }
   ],
   "source": [
    "epochs = 1100\n",
    "lr = 3e-1\n",
    "history4 = fit(epochs, lr, model, train_loader, val_loader)"
   ]
  },
  {
   "cell_type": "code",
   "execution_count": 42,
   "metadata": {
    "colab": {
     "base_uri": "https://localhost:8080/"
    },
    "executionInfo": {
     "elapsed": 118463,
     "status": "ok",
     "timestamp": 1607787778832,
     "user": {
      "displayName": "Yashvardhan",
      "photoUrl": "https://lh3.googleusercontent.com/a-/AOh14GjOA2bDNbFlzIc87oEVhZJx5P5OImQZnvo7NGr4gg=s64",
      "userId": "12078069401031703493"
     },
     "user_tz": -330
    },
    "id": "AK7J6oV9hOWZ",
    "outputId": "1b13b452-fc2c-49d5-c93e-a1718c76fbc3"
   },
   "outputs": [
    {
     "name": "stdout",
     "output_type": "stream",
     "text": [
      "Epoch [20], val_loss: 5585.2710\n",
      "Epoch [40], val_loss: 5599.7974\n",
      "Epoch [60], val_loss: 5566.3589\n",
      "Epoch [80], val_loss: 5602.2847\n",
      "Epoch [100], val_loss: 5596.8359\n",
      "Epoch [120], val_loss: 5548.2720\n",
      "Epoch [140], val_loss: 5537.4570\n",
      "Epoch [160], val_loss: 5532.2793\n",
      "Epoch [180], val_loss: 5536.0962\n",
      "Epoch [200], val_loss: 5516.3989\n",
      "Epoch [220], val_loss: 5519.2856\n",
      "Epoch [240], val_loss: 5541.4360\n",
      "Epoch [260], val_loss: 5481.8374\n",
      "Epoch [280], val_loss: 5571.3516\n",
      "Epoch [300], val_loss: 5465.3120\n",
      "Epoch [320], val_loss: 5456.8765\n",
      "Epoch [340], val_loss: 5488.4116\n",
      "Epoch [360], val_loss: 5469.6113\n",
      "Epoch [380], val_loss: 5520.2773\n",
      "Epoch [400], val_loss: 5424.8032\n",
      "Epoch [420], val_loss: 5416.2954\n",
      "Epoch [440], val_loss: 5409.7168\n",
      "Epoch [460], val_loss: 5480.6069\n",
      "Epoch [480], val_loss: 5487.4214\n",
      "Epoch [500], val_loss: 5394.2388\n",
      "Epoch [520], val_loss: 5399.0435\n",
      "Epoch [540], val_loss: 5366.0093\n",
      "Epoch [560], val_loss: 5370.1479\n",
      "Epoch [580], val_loss: 5348.5874\n",
      "Epoch [600], val_loss: 5349.4321\n",
      "Epoch [620], val_loss: 5370.5649\n",
      "Epoch [640], val_loss: 5345.9028\n",
      "Epoch [660], val_loss: 5313.8867\n",
      "Epoch [680], val_loss: 5311.2090\n",
      "Epoch [700], val_loss: 5316.4819\n",
      "Epoch [720], val_loss: 5361.6172\n",
      "Epoch [740], val_loss: 5284.9375\n",
      "Epoch [760], val_loss: 5299.4766\n",
      "Epoch [780], val_loss: 5274.4941\n",
      "Epoch [800], val_loss: 5323.3750\n",
      "Epoch [820], val_loss: 5258.9478\n",
      "Epoch [840], val_loss: 5252.3550\n",
      "Epoch [860], val_loss: 5308.3970\n",
      "Epoch [880], val_loss: 5233.4038\n",
      "Epoch [900], val_loss: 5214.4331\n",
      "Epoch [920], val_loss: 5205.3550\n",
      "Epoch [940], val_loss: 5226.3892\n",
      "Epoch [960], val_loss: 5228.5669\n",
      "Epoch [980], val_loss: 5246.7964\n",
      "Epoch [1000], val_loss: 5201.7207\n",
      "Epoch [1020], val_loss: 5173.5420\n",
      "Epoch [1040], val_loss: 5173.8184\n",
      "Epoch [1060], val_loss: 5221.2021\n",
      "Epoch [1080], val_loss: 5140.2192\n",
      "Epoch [1100], val_loss: 5191.9258\n"
     ]
    }
   ],
   "source": [
    "epochs = 1100\n",
    "lr = 5e-1\n",
    "history5 = fit(epochs, lr, model, train_loader, val_loader)"
   ]
  },
  {
   "cell_type": "code",
   "execution_count": 43,
   "metadata": {
    "colab": {
     "base_uri": "https://localhost:8080/"
    },
    "executionInfo": {
     "elapsed": 138553,
     "status": "ok",
     "timestamp": 1607787798965,
     "user": {
      "displayName": "Yashvardhan",
      "photoUrl": "https://lh3.googleusercontent.com/a-/AOh14GjOA2bDNbFlzIc87oEVhZJx5P5OImQZnvo7NGr4gg=s64",
      "userId": "12078069401031703493"
     },
     "user_tz": -330
    },
    "id": "yDlEY_EtLK5q",
    "outputId": "81d441fe-62a1-4abb-e451-96041bd64dd3"
   },
   "outputs": [
    {
     "name": "stdout",
     "output_type": "stream",
     "text": [
      "Epoch [20], val_loss: 5138.2593\n",
      "Epoch [40], val_loss: 5138.3433\n",
      "Epoch [60], val_loss: 5136.2183\n",
      "Epoch [80], val_loss: 5134.5293\n",
      "Epoch [100], val_loss: 5137.2700\n",
      "Epoch [120], val_loss: 5141.8252\n",
      "Epoch [140], val_loss: 5136.9980\n",
      "Epoch [160], val_loss: 5137.6382\n",
      "Epoch [180], val_loss: 5135.6519\n",
      "Epoch [200], val_loss: 5135.0200\n",
      "Epoch [220], val_loss: 5133.4341\n",
      "Epoch [240], val_loss: 5137.8145\n",
      "Epoch [260], val_loss: 5133.5317\n",
      "Epoch [280], val_loss: 5134.3984\n",
      "Epoch [300], val_loss: 5133.0327\n",
      "Epoch [320], val_loss: 5133.8726\n",
      "Epoch [340], val_loss: 5134.6030\n",
      "Epoch [360], val_loss: 5131.4907\n",
      "Epoch [380], val_loss: 5132.5156\n",
      "Epoch [400], val_loss: 5131.4536\n",
      "Epoch [420], val_loss: 5131.2480\n",
      "Epoch [440], val_loss: 5128.3276\n",
      "Epoch [460], val_loss: 5129.4043\n",
      "Epoch [480], val_loss: 5126.0786\n",
      "Epoch [500], val_loss: 5128.4590\n",
      "Epoch [520], val_loss: 5126.8491\n",
      "Epoch [540], val_loss: 5124.0449\n",
      "Epoch [560], val_loss: 5125.3062\n",
      "Epoch [580], val_loss: 5125.5923\n",
      "Epoch [600], val_loss: 5125.0381\n",
      "Epoch [620], val_loss: 5123.8340\n",
      "Epoch [640], val_loss: 5126.5190\n",
      "Epoch [660], val_loss: 5121.8735\n",
      "Epoch [680], val_loss: 5128.2979\n",
      "Epoch [700], val_loss: 5125.1519\n",
      "Epoch [720], val_loss: 5121.2778\n",
      "Epoch [740], val_loss: 5123.6328\n",
      "Epoch [760], val_loss: 5119.9780\n",
      "Epoch [780], val_loss: 5120.7837\n",
      "Epoch [800], val_loss: 5121.3618\n",
      "Epoch [820], val_loss: 5119.7559\n",
      "Epoch [840], val_loss: 5117.6392\n",
      "Epoch [860], val_loss: 5118.4302\n",
      "Epoch [880], val_loss: 5117.7339\n",
      "Epoch [900], val_loss: 5115.8325\n",
      "Epoch [920], val_loss: 5115.5630\n",
      "Epoch [940], val_loss: 5117.2202\n",
      "Epoch [960], val_loss: 5113.0054\n",
      "Epoch [980], val_loss: 5115.8716\n",
      "Epoch [1000], val_loss: 5118.1182\n",
      "Epoch [1020], val_loss: 5114.2593\n",
      "Epoch [1040], val_loss: 5113.1548\n",
      "Epoch [1060], val_loss: 5113.4902\n",
      "Epoch [1080], val_loss: 5115.6797\n",
      "Epoch [1100], val_loss: 5115.4507\n"
     ]
    }
   ],
   "source": [
    "epochs = 1100\r\n",
    "lr = 3e-2\r\n",
    "history5 = fit(epochs, lr, model, train_loader, val_loader)"
   ]
  },
  {
   "cell_type": "markdown",
   "metadata": {
    "id": "MWJytgAYhOWl"
   },
   "source": [
    "**Q: What is the final validation loss of your model?**"
   ]
  },
  {
   "cell_type": "code",
   "execution_count": 44,
   "metadata": {
    "colab": {
     "base_uri": "https://localhost:8080/"
    },
    "executionInfo": {
     "elapsed": 158625,
     "status": "ok",
     "timestamp": 1607787819088,
     "user": {
      "displayName": "Yashvardhan",
      "photoUrl": "https://lh3.googleusercontent.com/a-/AOh14GjOA2bDNbFlzIc87oEVhZJx5P5OImQZnvo7NGr4gg=s64",
      "userId": "12078069401031703493"
     },
     "user_tz": -330
    },
    "id": "YpoU_nNnLtdq",
    "outputId": "bcacaf07-35b3-4b07-af12-a34dd0f1ab97"
   },
   "outputs": [
    {
     "name": "stdout",
     "output_type": "stream",
     "text": [
      "Epoch [20], val_loss: 5102.6836\n",
      "Epoch [40], val_loss: 5108.1558\n",
      "Epoch [60], val_loss: 5099.0356\n",
      "Epoch [80], val_loss: 5112.3530\n",
      "Epoch [100], val_loss: 5102.3589\n",
      "Epoch [120], val_loss: 5107.2666\n",
      "Epoch [140], val_loss: 5099.0234\n",
      "Epoch [160], val_loss: 5104.9824\n",
      "Epoch [180], val_loss: 5093.0679\n",
      "Epoch [200], val_loss: 5091.6230\n",
      "Epoch [220], val_loss: 5108.8472\n",
      "Epoch [240], val_loss: 5103.6201\n",
      "Epoch [260], val_loss: 5099.5239\n",
      "Epoch [280], val_loss: 5084.8120\n",
      "Epoch [300], val_loss: 5088.3799\n",
      "Epoch [320], val_loss: 5083.8579\n",
      "Epoch [340], val_loss: 5081.8486\n",
      "Epoch [360], val_loss: 5078.7539\n",
      "Epoch [380], val_loss: 5076.8862\n",
      "Epoch [400], val_loss: 5076.2744\n",
      "Epoch [420], val_loss: 5074.3540\n",
      "Epoch [440], val_loss: 5069.6440\n",
      "Epoch [460], val_loss: 5069.6509\n",
      "Epoch [480], val_loss: 5076.4458\n",
      "Epoch [500], val_loss: 5070.4785\n",
      "Epoch [520], val_loss: 5070.3765\n",
      "Epoch [540], val_loss: 5072.9604\n",
      "Epoch [560], val_loss: 5068.7949\n",
      "Epoch [580], val_loss: 5063.4980\n",
      "Epoch [600], val_loss: 5059.6060\n",
      "Epoch [620], val_loss: 5070.4683\n",
      "Epoch [640], val_loss: 5053.8003\n",
      "Epoch [660], val_loss: 5051.5898\n",
      "Epoch [680], val_loss: 5055.0757\n",
      "Epoch [700], val_loss: 5055.7852\n",
      "Epoch [720], val_loss: 5056.2612\n",
      "Epoch [740], val_loss: 5048.5493\n",
      "Epoch [760], val_loss: 5059.1714\n",
      "Epoch [780], val_loss: 5048.5269\n",
      "Epoch [800], val_loss: 5045.0903\n",
      "Epoch [820], val_loss: 5040.8657\n",
      "Epoch [840], val_loss: 5033.7056\n",
      "Epoch [860], val_loss: 5041.3135\n",
      "Epoch [880], val_loss: 5059.0688\n",
      "Epoch [900], val_loss: 5029.3931\n",
      "Epoch [920], val_loss: 5049.9736\n",
      "Epoch [940], val_loss: 5042.0649\n",
      "Epoch [960], val_loss: 5023.8447\n",
      "Epoch [980], val_loss: 5036.4185\n",
      "Epoch [1000], val_loss: 5022.6167\n",
      "Epoch [1020], val_loss: 5023.2612\n",
      "Epoch [1040], val_loss: 5020.8882\n",
      "Epoch [1060], val_loss: 5028.8101\n",
      "Epoch [1080], val_loss: 5035.0884\n",
      "Epoch [1100], val_loss: 5030.2681\n"
     ]
    }
   ],
   "source": [
    "epochs = 1100\r\n",
    "lr = 1e-1\r\n",
    "history5 = fit(epochs, lr, model, train_loader, val_loader)"
   ]
  },
  {
   "cell_type": "code",
   "execution_count": 45,
   "metadata": {
    "colab": {
     "base_uri": "https://localhost:8080/"
    },
    "executionInfo": {
     "elapsed": 178723,
     "status": "ok",
     "timestamp": 1607787839256,
     "user": {
      "displayName": "Yashvardhan",
      "photoUrl": "https://lh3.googleusercontent.com/a-/AOh14GjOA2bDNbFlzIc87oEVhZJx5P5OImQZnvo7NGr4gg=s64",
      "userId": "12078069401031703493"
     },
     "user_tz": -330
    },
    "id": "QSULaVjcMF3R",
    "outputId": "29dd4b0d-c6b3-44f4-873c-b246f5652b2b"
   },
   "outputs": [
    {
     "name": "stdout",
     "output_type": "stream",
     "text": [
      "Epoch [20], val_loss: 5006.3145\n",
      "Epoch [40], val_loss: 4998.9810\n",
      "Epoch [60], val_loss: 4997.2173\n",
      "Epoch [80], val_loss: 4992.0771\n",
      "Epoch [100], val_loss: 4972.7856\n",
      "Epoch [120], val_loss: 4974.1821\n",
      "Epoch [140], val_loss: 4956.2300\n",
      "Epoch [160], val_loss: 4954.8540\n",
      "Epoch [180], val_loss: 4972.0229\n",
      "Epoch [200], val_loss: 4936.1743\n",
      "Epoch [220], val_loss: 4922.8521\n",
      "Epoch [240], val_loss: 5032.5737\n",
      "Epoch [260], val_loss: 4916.5298\n",
      "Epoch [280], val_loss: 4963.0801\n",
      "Epoch [300], val_loss: 4935.9224\n",
      "Epoch [320], val_loss: 4883.2563\n",
      "Epoch [340], val_loss: 4941.9985\n",
      "Epoch [360], val_loss: 4905.1138\n",
      "Epoch [380], val_loss: 4934.8232\n",
      "Epoch [400], val_loss: 4944.1484\n",
      "Epoch [420], val_loss: 4859.7549\n",
      "Epoch [440], val_loss: 4833.1851\n",
      "Epoch [460], val_loss: 4824.1978\n",
      "Epoch [480], val_loss: 4817.6421\n",
      "Epoch [500], val_loss: 4830.1421\n",
      "Epoch [520], val_loss: 4836.8325\n",
      "Epoch [540], val_loss: 4825.1401\n",
      "Epoch [560], val_loss: 4787.6606\n",
      "Epoch [580], val_loss: 4777.0762\n",
      "Epoch [600], val_loss: 4769.6758\n",
      "Epoch [620], val_loss: 4799.5933\n",
      "Epoch [640], val_loss: 4858.4810\n",
      "Epoch [660], val_loss: 4742.7812\n",
      "Epoch [680], val_loss: 4738.7837\n",
      "Epoch [700], val_loss: 4726.4126\n",
      "Epoch [720], val_loss: 4719.8657\n",
      "Epoch [740], val_loss: 4712.4438\n",
      "Epoch [760], val_loss: 4710.5708\n",
      "Epoch [780], val_loss: 4693.8823\n",
      "Epoch [800], val_loss: 4686.0947\n",
      "Epoch [820], val_loss: 4677.7280\n",
      "Epoch [840], val_loss: 4703.1919\n",
      "Epoch [860], val_loss: 4681.6353\n",
      "Epoch [880], val_loss: 4727.4087\n",
      "Epoch [900], val_loss: 4647.3315\n",
      "Epoch [920], val_loss: 4665.1953\n",
      "Epoch [940], val_loss: 4644.6265\n",
      "Epoch [960], val_loss: 4625.1411\n",
      "Epoch [980], val_loss: 4616.0044\n",
      "Epoch [1000], val_loss: 4604.3882\n",
      "Epoch [1020], val_loss: 4604.6313\n",
      "Epoch [1040], val_loss: 4599.0786\n",
      "Epoch [1060], val_loss: 4584.4058\n",
      "Epoch [1080], val_loss: 4574.1392\n",
      "Epoch [1100], val_loss: 4587.2695\n"
     ]
    }
   ],
   "source": [
    "epochs = 1100\r\n",
    "lr = 5e-1\r\n",
    "history5 = fit(epochs, lr, model, train_loader, val_loader)"
   ]
  },
  {
   "cell_type": "code",
   "execution_count": 46,
   "metadata": {
    "colab": {
     "base_uri": "https://localhost:8080/"
    },
    "executionInfo": {
     "elapsed": 198890,
     "status": "ok",
     "timestamp": 1607787859474,
     "user": {
      "displayName": "Yashvardhan",
      "photoUrl": "https://lh3.googleusercontent.com/a-/AOh14GjOA2bDNbFlzIc87oEVhZJx5P5OImQZnvo7NGr4gg=s64",
      "userId": "12078069401031703493"
     },
     "user_tz": -330
    },
    "id": "JvTll-lrMMbg",
    "outputId": "7f7dafce-660c-4248-f270-cd9ecf41565a"
   },
   "outputs": [
    {
     "name": "stdout",
     "output_type": "stream",
     "text": [
      "Epoch [20], val_loss: 4611.1641\n",
      "Epoch [40], val_loss: 4567.2827\n",
      "Epoch [60], val_loss: 4570.7456\n",
      "Epoch [80], val_loss: 4547.5581\n",
      "Epoch [100], val_loss: 4540.0103\n",
      "Epoch [120], val_loss: 4549.4829\n",
      "Epoch [140], val_loss: 4531.4756\n",
      "Epoch [160], val_loss: 4524.5586\n",
      "Epoch [180], val_loss: 4538.7554\n",
      "Epoch [200], val_loss: 4523.1177\n",
      "Epoch [220], val_loss: 4510.1987\n",
      "Epoch [240], val_loss: 4518.8862\n",
      "Epoch [260], val_loss: 4502.6470\n",
      "Epoch [280], val_loss: 4506.1938\n",
      "Epoch [300], val_loss: 4492.5820\n",
      "Epoch [320], val_loss: 4485.9160\n",
      "Epoch [340], val_loss: 4505.0596\n",
      "Epoch [360], val_loss: 4493.1812\n",
      "Epoch [380], val_loss: 4494.0645\n",
      "Epoch [400], val_loss: 4479.9321\n",
      "Epoch [420], val_loss: 4469.8716\n",
      "Epoch [440], val_loss: 4458.3906\n",
      "Epoch [460], val_loss: 4462.3809\n",
      "Epoch [480], val_loss: 4449.3892\n",
      "Epoch [500], val_loss: 4471.2153\n",
      "Epoch [520], val_loss: 4436.8257\n",
      "Epoch [540], val_loss: 4437.3013\n",
      "Epoch [560], val_loss: 4437.8970\n",
      "Epoch [580], val_loss: 4422.2729\n",
      "Epoch [600], val_loss: 4442.1968\n",
      "Epoch [620], val_loss: 4422.5845\n",
      "Epoch [640], val_loss: 4409.1372\n",
      "Epoch [660], val_loss: 4404.3828\n",
      "Epoch [680], val_loss: 4405.2656\n",
      "Epoch [700], val_loss: 4411.2314\n",
      "Epoch [720], val_loss: 4399.3442\n",
      "Epoch [740], val_loss: 4384.3477\n",
      "Epoch [760], val_loss: 4379.5483\n",
      "Epoch [780], val_loss: 4376.9331\n",
      "Epoch [800], val_loss: 4373.4741\n",
      "Epoch [820], val_loss: 4364.9526\n",
      "Epoch [840], val_loss: 4372.8979\n",
      "Epoch [860], val_loss: 4355.5459\n",
      "Epoch [880], val_loss: 4356.3110\n",
      "Epoch [900], val_loss: 4354.5249\n",
      "Epoch [920], val_loss: 4342.0835\n",
      "Epoch [940], val_loss: 4392.9839\n",
      "Epoch [960], val_loss: 4330.5249\n",
      "Epoch [980], val_loss: 4341.1157\n",
      "Epoch [1000], val_loss: 4323.3164\n",
      "Epoch [1020], val_loss: 4333.5796\n",
      "Epoch [1040], val_loss: 4315.5903\n",
      "Epoch [1060], val_loss: 4347.4805\n",
      "Epoch [1080], val_loss: 4355.0469\n",
      "Epoch [1100], val_loss: 4299.4487\n"
     ]
    }
   ],
   "source": [
    "epochs = 1100\r\n",
    "lr = 3e-1\r\n",
    "history5 = fit(epochs, lr, model, train_loader, val_loader)"
   ]
  },
  {
   "cell_type": "code",
   "execution_count": 47,
   "metadata": {
    "colab": {
     "base_uri": "https://localhost:8080/"
    },
    "executionInfo": {
     "elapsed": 218775,
     "status": "ok",
     "timestamp": 1607787879399,
     "user": {
      "displayName": "Yashvardhan",
      "photoUrl": "https://lh3.googleusercontent.com/a-/AOh14GjOA2bDNbFlzIc87oEVhZJx5P5OImQZnvo7NGr4gg=s64",
      "userId": "12078069401031703493"
     },
     "user_tz": -330
    },
    "id": "1bbvHcjtMYZu",
    "outputId": "7c39632b-f4a4-451e-d77c-d8c877ac0477"
   },
   "outputs": [
    {
     "name": "stdout",
     "output_type": "stream",
     "text": [
      "Epoch [20], val_loss: 4288.8442\n",
      "Epoch [40], val_loss: 4322.7554\n",
      "Epoch [60], val_loss: 4363.3091\n",
      "Epoch [80], val_loss: 4265.4741\n",
      "Epoch [100], val_loss: 4338.9399\n",
      "Epoch [120], val_loss: 4248.8267\n",
      "Epoch [140], val_loss: 4244.0576\n",
      "Epoch [160], val_loss: 4239.1792\n",
      "Epoch [180], val_loss: 4249.0454\n",
      "Epoch [200], val_loss: 4226.2227\n",
      "Epoch [220], val_loss: 4218.2432\n",
      "Epoch [240], val_loss: 4205.0854\n",
      "Epoch [260], val_loss: 4251.0396\n",
      "Epoch [280], val_loss: 4186.0044\n",
      "Epoch [300], val_loss: 4193.1030\n",
      "Epoch [320], val_loss: 4184.5815\n",
      "Epoch [340], val_loss: 4164.1880\n",
      "Epoch [360], val_loss: 4169.3433\n",
      "Epoch [380], val_loss: 4172.7231\n",
      "Epoch [400], val_loss: 4145.2173\n",
      "Epoch [420], val_loss: 4137.9995\n",
      "Epoch [440], val_loss: 4137.7407\n",
      "Epoch [460], val_loss: 4119.1128\n",
      "Epoch [480], val_loss: 4113.8408\n",
      "Epoch [500], val_loss: 4100.9233\n",
      "Epoch [520], val_loss: 4088.0645\n",
      "Epoch [540], val_loss: 4120.5005\n",
      "Epoch [560], val_loss: 4084.7197\n",
      "Epoch [580], val_loss: 4084.8545\n",
      "Epoch [600], val_loss: 4103.3921\n",
      "Epoch [620], val_loss: 4048.2014\n",
      "Epoch [640], val_loss: 4081.6628\n",
      "Epoch [660], val_loss: 4064.9836\n",
      "Epoch [680], val_loss: 4033.6631\n",
      "Epoch [700], val_loss: 4025.9016\n",
      "Epoch [720], val_loss: 4043.4695\n",
      "Epoch [740], val_loss: 4076.4294\n",
      "Epoch [760], val_loss: 3994.2998\n",
      "Epoch [780], val_loss: 3989.5852\n",
      "Epoch [800], val_loss: 3978.5059\n",
      "Epoch [820], val_loss: 4032.6042\n",
      "Epoch [840], val_loss: 3963.5168\n",
      "Epoch [860], val_loss: 3959.4802\n",
      "Epoch [880], val_loss: 3953.6443\n",
      "Epoch [900], val_loss: 3942.2205\n",
      "Epoch [920], val_loss: 3936.5925\n",
      "Epoch [940], val_loss: 3941.8518\n",
      "Epoch [960], val_loss: 4001.6292\n",
      "Epoch [980], val_loss: 3951.6445\n",
      "Epoch [1000], val_loss: 3906.3027\n",
      "Epoch [1020], val_loss: 3928.5156\n",
      "Epoch [1040], val_loss: 3964.7000\n",
      "Epoch [1060], val_loss: 3885.7771\n",
      "Epoch [1080], val_loss: 3896.6572\n",
      "Epoch [1100], val_loss: 3909.3633\n"
     ]
    }
   ],
   "source": [
    "epochs = 1100\r\n",
    "lr = 5e-1\r\n",
    "history5 = fit(epochs, lr, model, train_loader, val_loader)"
   ]
  },
  {
   "cell_type": "code",
   "execution_count": 48,
   "metadata": {
    "colab": {
     "base_uri": "https://localhost:8080/"
    },
    "executionInfo": {
     "elapsed": 239617,
     "status": "ok",
     "timestamp": 1607787900309,
     "user": {
      "displayName": "Yashvardhan",
      "photoUrl": "https://lh3.googleusercontent.com/a-/AOh14GjOA2bDNbFlzIc87oEVhZJx5P5OImQZnvo7NGr4gg=s64",
      "userId": "12078069401031703493"
     },
     "user_tz": -330
    },
    "id": "r_vfVUyIMq-T",
    "outputId": "a921d510-f43e-4d17-96fe-2219e6c852f8"
   },
   "outputs": [
    {
     "name": "stdout",
     "output_type": "stream",
     "text": [
      "Epoch [20], val_loss: 3883.7991\n",
      "Epoch [40], val_loss: 3865.6992\n",
      "Epoch [60], val_loss: 3855.6863\n",
      "Epoch [80], val_loss: 3854.9651\n",
      "Epoch [100], val_loss: 3852.3875\n",
      "Epoch [120], val_loss: 3887.0994\n",
      "Epoch [140], val_loss: 3846.2227\n",
      "Epoch [160], val_loss: 3840.8625\n",
      "Epoch [180], val_loss: 3842.7507\n",
      "Epoch [200], val_loss: 3842.8699\n",
      "Epoch [220], val_loss: 3820.7947\n",
      "Epoch [240], val_loss: 3827.2239\n",
      "Epoch [260], val_loss: 3829.3142\n",
      "Epoch [280], val_loss: 3834.5820\n",
      "Epoch [300], val_loss: 3818.3005\n",
      "Epoch [320], val_loss: 3804.1311\n",
      "Epoch [340], val_loss: 3810.5706\n",
      "Epoch [360], val_loss: 3931.8562\n",
      "Epoch [380], val_loss: 3788.1416\n",
      "Epoch [400], val_loss: 3800.4182\n",
      "Epoch [420], val_loss: 3779.5381\n",
      "Epoch [440], val_loss: 3818.9915\n",
      "Epoch [460], val_loss: 3771.8750\n",
      "Epoch [480], val_loss: 3771.3054\n",
      "Epoch [500], val_loss: 3782.5898\n",
      "Epoch [520], val_loss: 3761.0149\n",
      "Epoch [540], val_loss: 3759.8418\n",
      "Epoch [560], val_loss: 3758.8030\n",
      "Epoch [580], val_loss: 3779.6726\n",
      "Epoch [600], val_loss: 3741.5203\n",
      "Epoch [620], val_loss: 3763.1218\n",
      "Epoch [640], val_loss: 3744.8801\n",
      "Epoch [660], val_loss: 3746.1643\n",
      "Epoch [680], val_loss: 3755.7109\n",
      "Epoch [700], val_loss: 3720.7546\n",
      "Epoch [720], val_loss: 3724.9285\n",
      "Epoch [740], val_loss: 3823.3840\n",
      "Epoch [760], val_loss: 3709.5891\n",
      "Epoch [780], val_loss: 3718.8730\n",
      "Epoch [800], val_loss: 3715.2441\n",
      "Epoch [820], val_loss: 3721.6917\n",
      "Epoch [840], val_loss: 3698.4143\n",
      "Epoch [860], val_loss: 3701.8682\n",
      "Epoch [880], val_loss: 3689.3513\n",
      "Epoch [900], val_loss: 3682.8835\n",
      "Epoch [920], val_loss: 3681.1055\n",
      "Epoch [940], val_loss: 3672.4932\n",
      "Epoch [960], val_loss: 3669.3809\n",
      "Epoch [980], val_loss: 3669.2473\n",
      "Epoch [1000], val_loss: 3674.9824\n",
      "Epoch [1020], val_loss: 3659.3860\n",
      "Epoch [1040], val_loss: 3653.5007\n",
      "Epoch [1060], val_loss: 3657.0657\n",
      "Epoch [1080], val_loss: 3704.2351\n",
      "Epoch [1100], val_loss: 3643.3582\n"
     ]
    }
   ],
   "source": [
    "epochs = 1100\r\n",
    "lr = 3e-1\r\n",
    "history5 = fit(epochs, lr, model, train_loader, val_loader)"
   ]
  },
  {
   "cell_type": "code",
   "execution_count": 49,
   "metadata": {
    "colab": {
     "base_uri": "https://localhost:8080/"
    },
    "executionInfo": {
     "elapsed": 260547,
     "status": "ok",
     "timestamp": 1607787921274,
     "user": {
      "displayName": "Yashvardhan",
      "photoUrl": "https://lh3.googleusercontent.com/a-/AOh14GjOA2bDNbFlzIc87oEVhZJx5P5OImQZnvo7NGr4gg=s64",
      "userId": "12078069401031703493"
     },
     "user_tz": -330
    },
    "id": "MXpJyGgeM115",
    "outputId": "2a6fa489-2d13-41a7-ea10-652fbac7fa51"
   },
   "outputs": [
    {
     "name": "stdout",
     "output_type": "stream",
     "text": [
      "Epoch [20], val_loss: 3761.0439\n",
      "Epoch [40], val_loss: 3628.4153\n",
      "Epoch [60], val_loss: 3622.5574\n",
      "Epoch [80], val_loss: 3640.0535\n",
      "Epoch [100], val_loss: 3610.2590\n",
      "Epoch [120], val_loss: 3625.1289\n",
      "Epoch [140], val_loss: 3614.8459\n",
      "Epoch [160], val_loss: 3665.5544\n",
      "Epoch [180], val_loss: 3593.7781\n",
      "Epoch [200], val_loss: 3580.3025\n",
      "Epoch [220], val_loss: 3570.1897\n",
      "Epoch [240], val_loss: 3597.2939\n",
      "Epoch [260], val_loss: 3557.8425\n",
      "Epoch [280], val_loss: 3552.4463\n",
      "Epoch [300], val_loss: 3546.9148\n",
      "Epoch [320], val_loss: 3539.6428\n",
      "Epoch [340], val_loss: 3533.5938\n",
      "Epoch [360], val_loss: 3541.5310\n",
      "Epoch [380], val_loss: 3521.2639\n",
      "Epoch [400], val_loss: 3576.2100\n",
      "Epoch [420], val_loss: 3509.2375\n",
      "Epoch [440], val_loss: 3504.8279\n",
      "Epoch [460], val_loss: 3515.9133\n",
      "Epoch [480], val_loss: 3505.6824\n",
      "Epoch [500], val_loss: 3486.5830\n",
      "Epoch [520], val_loss: 3504.6875\n",
      "Epoch [540], val_loss: 3507.6638\n",
      "Epoch [560], val_loss: 3469.7949\n",
      "Epoch [580], val_loss: 3465.3430\n",
      "Epoch [600], val_loss: 3618.9773\n",
      "Epoch [620], val_loss: 3510.5762\n",
      "Epoch [640], val_loss: 3451.5928\n",
      "Epoch [660], val_loss: 3517.1257\n",
      "Epoch [680], val_loss: 3449.2422\n",
      "Epoch [700], val_loss: 3462.5466\n",
      "Epoch [720], val_loss: 3442.5244\n",
      "Epoch [740], val_loss: 3425.4167\n",
      "Epoch [760], val_loss: 3424.4480\n",
      "Epoch [780], val_loss: 3412.8643\n",
      "Epoch [800], val_loss: 3489.3650\n",
      "Epoch [820], val_loss: 3429.3992\n",
      "Epoch [840], val_loss: 3531.4045\n",
      "Epoch [860], val_loss: 3396.2051\n",
      "Epoch [880], val_loss: 3392.4290\n",
      "Epoch [900], val_loss: 3419.9434\n",
      "Epoch [920], val_loss: 3382.4270\n",
      "Epoch [940], val_loss: 3394.6116\n",
      "Epoch [960], val_loss: 3375.1025\n",
      "Epoch [980], val_loss: 3377.4133\n",
      "Epoch [1000], val_loss: 3368.9749\n",
      "Epoch [1020], val_loss: 3365.1960\n",
      "Epoch [1040], val_loss: 3359.0535\n",
      "Epoch [1060], val_loss: 3356.5212\n",
      "Epoch [1080], val_loss: 3354.0217\n",
      "Epoch [1100], val_loss: 3348.0042\n"
     ]
    }
   ],
   "source": [
    "epochs = 1100\r\n",
    "lr = 5e-1\r\n",
    "history5 = fit(epochs, lr, model, train_loader, val_loader)"
   ]
  },
  {
   "cell_type": "code",
   "execution_count": 59,
   "metadata": {
    "executionInfo": {
     "elapsed": 1074,
     "status": "ok",
     "timestamp": 1607787973640,
     "user": {
      "displayName": "Yashvardhan",
      "photoUrl": "https://lh3.googleusercontent.com/a-/AOh14GjOA2bDNbFlzIc87oEVhZJx5P5OImQZnvo7NGr4gg=s64",
      "userId": "12078069401031703493"
     },
     "user_tz": -330
    },
    "id": "GiPUWJXHhOWm"
   },
   "outputs": [],
   "source": [
    "val_loss = 3348"
   ]
  },
  {
   "cell_type": "markdown",
   "metadata": {
    "id": "8Lfe_jLrhOWn"
   },
   "source": [
    "Let's log the final validation loss to Jovian and commit the notebook"
   ]
  },
  {
   "cell_type": "code",
   "execution_count": 60,
   "metadata": {
    "colab": {
     "base_uri": "https://localhost:8080/"
    },
    "executionInfo": {
     "elapsed": 1465,
     "status": "ok",
     "timestamp": 1607787978770,
     "user": {
      "displayName": "Yashvardhan",
      "photoUrl": "https://lh3.googleusercontent.com/a-/AOh14GjOA2bDNbFlzIc87oEVhZJx5P5OImQZnvo7NGr4gg=s64",
      "userId": "12078069401031703493"
     },
     "user_tz": -330
    },
    "id": "cUtCKP00hOWo",
    "outputId": "a1a9fdc8-4244-445a-f117-534c208cfb07"
   },
   "outputs": [
    {
     "name": "stdout",
     "output_type": "stream",
     "text": [
      "[jovian] Metrics logged.\u001b[0m\n"
     ]
    }
   ],
   "source": [
    "jovian.log_metrics(val_loss=val_loss)"
   ]
  },
  {
   "cell_type": "code",
   "execution_count": 61,
   "metadata": {
    "colab": {
     "base_uri": "https://localhost:8080/",
     "height": 122
    },
    "executionInfo": {
     "elapsed": 4002,
     "status": "ok",
     "timestamp": 1607787988771,
     "user": {
      "displayName": "Yashvardhan",
      "photoUrl": "https://lh3.googleusercontent.com/a-/AOh14GjOA2bDNbFlzIc87oEVhZJx5P5OImQZnvo7NGr4gg=s64",
      "userId": "12078069401031703493"
     },
     "user_tz": -330
    },
    "id": "-hFKdKGghOWo",
    "outputId": "a5f8fff0-3758-405f-9176-c994b438d371"
   },
   "outputs": [
    {
     "name": "stdout",
     "output_type": "stream",
     "text": [
      "[jovian] Detected Colab notebook...\u001b[0m\n",
      "[jovian] Uploading colab notebook to Jovian...\u001b[0m\n",
      "[jovian] Attaching records (metrics, hyperparameters, dataset etc.)\u001b[0m\n",
      "[jovian] Committed successfully! https://jovian.ai/vardhanyash20000/02-insurance-linear-regression\u001b[0m\n"
     ]
    },
    {
     "data": {
      "application/vnd.google.colaboratory.intrinsic+json": {
       "type": "string"
      },
      "text/plain": [
       "'https://jovian.ai/vardhanyash20000/02-insurance-linear-regression'"
      ]
     },
     "execution_count": 61,
     "metadata": {
      "tags": []
     },
     "output_type": "execute_result"
    }
   ],
   "source": [
    "jovian.commit(project=project_name, environment=None)"
   ]
  },
  {
   "cell_type": "markdown",
   "metadata": {
    "id": "a9k9VrhQhOWp"
   },
   "source": [
    "Now scroll back up, re-initialize the model, and try different set of values for batch size, number of epochs, learning rate etc. Commit each experiment and use the \"Compare\" and \"View Diff\" options on Jovian to compare the different results."
   ]
  },
  {
   "cell_type": "markdown",
   "metadata": {
    "id": "QFGyLYIUhOWq"
   },
   "source": [
    "## Step 5: Make predictions using the trained model\n",
    "\n",
    "**Q: Complete the following function definition to make predictions on a single input**"
   ]
  },
  {
   "cell_type": "code",
   "execution_count": 53,
   "metadata": {
    "executionInfo": {
     "elapsed": 263036,
     "status": "ok",
     "timestamp": 1607787923984,
     "user": {
      "displayName": "Yashvardhan",
      "photoUrl": "https://lh3.googleusercontent.com/a-/AOh14GjOA2bDNbFlzIc87oEVhZJx5P5OImQZnvo7NGr4gg=s64",
      "userId": "12078069401031703493"
     },
     "user_tz": -330
    },
    "id": "8lgDOCuuhOWr"
   },
   "outputs": [],
   "source": [
    "def predict_single(input, target, model):\n",
    "    inputs = input.unsqueeze(0)\n",
    "    predictions = model(inputs)                # fill this\n",
    "    prediction = predictions[0].detach()\n",
    "    print(\"Input:\", input)\n",
    "    print(\"Target:\", target)\n",
    "    print(\"Prediction:\", prediction)"
   ]
  },
  {
   "cell_type": "code",
   "execution_count": 54,
   "metadata": {
    "colab": {
     "base_uri": "https://localhost:8080/"
    },
    "executionInfo": {
     "elapsed": 262957,
     "status": "ok",
     "timestamp": 1607787924005,
     "user": {
      "displayName": "Yashvardhan",
      "photoUrl": "https://lh3.googleusercontent.com/a-/AOh14GjOA2bDNbFlzIc87oEVhZJx5P5OImQZnvo7NGr4gg=s64",
      "userId": "12078069401031703493"
     },
     "user_tz": -330
    },
    "id": "OPwDKF1ihOWs",
    "outputId": "727d1fbd-945f-4ccf-c18c-0a9caab14920"
   },
   "outputs": [
    {
     "name": "stdout",
     "output_type": "stream",
     "text": [
      "Input: tensor([51.0000,  0.0000, 17.5085,  0.0000,  0.0000,  1.0000])\n",
      "Target: tensor([11090.8906])\n",
      "Prediction: tensor([11987.7754])\n"
     ]
    }
   ],
   "source": [
    "input, target = val_ds[0]\n",
    "predict_single(input, target, model)"
   ]
  },
  {
   "cell_type": "code",
   "execution_count": 55,
   "metadata": {
    "colab": {
     "base_uri": "https://localhost:8080/"
    },
    "executionInfo": {
     "elapsed": 262931,
     "status": "ok",
     "timestamp": 1607787924014,
     "user": {
      "displayName": "Yashvardhan",
      "photoUrl": "https://lh3.googleusercontent.com/a-/AOh14GjOA2bDNbFlzIc87oEVhZJx5P5OImQZnvo7NGr4gg=s64",
      "userId": "12078069401031703493"
     },
     "user_tz": -330
    },
    "id": "fGkJdqREhOWt",
    "outputId": "852eaa2d-1d07-4970-cbc8-f1517ff31e7d"
   },
   "outputs": [
    {
     "name": "stdout",
     "output_type": "stream",
     "text": [
      "Input: tensor([58.0000,  1.0000, 24.4198,  0.0000,  0.0000,  0.0000])\n",
      "Target: tensor([13720.7939])\n",
      "Prediction: tensor([13793.5801])\n"
     ]
    }
   ],
   "source": [
    "input, target = val_ds[10]\n",
    "predict_single(input, target, model)"
   ]
  },
  {
   "cell_type": "code",
   "execution_count": 56,
   "metadata": {
    "colab": {
     "base_uri": "https://localhost:8080/"
    },
    "executionInfo": {
     "elapsed": 262906,
     "status": "ok",
     "timestamp": 1607787924015,
     "user": {
      "displayName": "Yashvardhan",
      "photoUrl": "https://lh3.googleusercontent.com/a-/AOh14GjOA2bDNbFlzIc87oEVhZJx5P5OImQZnvo7NGr4gg=s64",
      "userId": "12078069401031703493"
     },
     "user_tz": -330
    },
    "id": "UHlCNPJyhOWu",
    "outputId": "7024a185-a880-4582-f87e-e81363b2f67b"
   },
   "outputs": [
    {
     "name": "stdout",
     "output_type": "stream",
     "text": [
      "Input: tensor([30.0000,  0.0000, 41.8264,  2.0000,  0.0000,  2.0000])\n",
      "Target: tensor([5466.6821])\n",
      "Prediction: tensor([6117.2256])\n"
     ]
    }
   ],
   "source": [
    "input, target = val_ds[23]\n",
    "predict_single(input, target, model)"
   ]
  },
  {
   "cell_type": "code",
   "execution_count": 62,
   "metadata": {
    "colab": {
     "base_uri": "https://localhost:8080/"
    },
    "executionInfo": {
     "elapsed": 940,
     "status": "ok",
     "timestamp": 1607788027184,
     "user": {
      "displayName": "Yashvardhan",
      "photoUrl": "https://lh3.googleusercontent.com/a-/AOh14GjOA2bDNbFlzIc87oEVhZJx5P5OImQZnvo7NGr4gg=s64",
      "userId": "12078069401031703493"
     },
     "user_tz": -330
    },
    "id": "xZEaTY1soios",
    "outputId": "1ba16a5c-06b7-4a66-a39f-335701f47df4"
   },
   "outputs": [
    {
     "name": "stdout",
     "output_type": "stream",
     "text": [
      "Input: tensor([34.0000,  1.0000, 24.5119,  1.0000,  0.0000,  1.0000])\n",
      "Target: tensor([5628.9663])\n",
      "Prediction: tensor([6787.5039])\n"
     ]
    }
   ],
   "source": [
    "input, target = val_ds[66]\r\n",
    "predict_single(input, target, model)"
   ]
  },
  {
   "cell_type": "code",
   "execution_count": 63,
   "metadata": {
    "colab": {
     "base_uri": "https://localhost:8080/"
    },
    "executionInfo": {
     "elapsed": 1108,
     "status": "ok",
     "timestamp": 1607788039913,
     "user": {
      "displayName": "Yashvardhan",
      "photoUrl": "https://lh3.googleusercontent.com/a-/AOh14GjOA2bDNbFlzIc87oEVhZJx5P5OImQZnvo7NGr4gg=s64",
      "userId": "12078069401031703493"
     },
     "user_tz": -330
    },
    "id": "oKRzGIpxompc",
    "outputId": "01612950-c57f-4e8d-d66c-5e582f9bac2a"
   },
   "outputs": [
    {
     "name": "stdout",
     "output_type": "stream",
     "text": [
      "Input: tensor([39.0000,  1.0000, 34.2410,  2.0000,  1.0000,  3.0000])\n",
      "Target: tensor([46119.4727])\n",
      "Prediction: tensor([22926.4434])\n"
     ]
    }
   ],
   "source": [
    "input, target = val_ds[50]\r\n",
    "predict_single(input, target, model)"
   ]
  },
  {
   "cell_type": "code",
   "execution_count": 64,
   "metadata": {
    "colab": {
     "base_uri": "https://localhost:8080/"
    },
    "executionInfo": {
     "elapsed": 1074,
     "status": "ok",
     "timestamp": 1607788060164,
     "user": {
      "displayName": "Yashvardhan",
      "photoUrl": "https://lh3.googleusercontent.com/a-/AOh14GjOA2bDNbFlzIc87oEVhZJx5P5OImQZnvo7NGr4gg=s64",
      "userId": "12078069401031703493"
     },
     "user_tz": -330
    },
    "id": "GCq8bslnorWt",
    "outputId": "eb52badd-8491-4a68-a99d-a6d4dc237dab"
   },
   "outputs": [
    {
     "name": "stdout",
     "output_type": "stream",
     "text": [
      "Input: tensor([51.0000,  1.0000, 22.5137,  1.0000,  1.0000,  2.0000])\n",
      "Target: tensor([25550.8320])\n",
      "Prediction: tensor([26437.7344])\n"
     ]
    }
   ],
   "source": [
    "input, target = val_ds[90]\r\n",
    "predict_single(input, target, model)"
   ]
  },
  {
   "cell_type": "code",
   "execution_count": 65,
   "metadata": {
    "colab": {
     "base_uri": "https://localhost:8080/"
    },
    "executionInfo": {
     "elapsed": 1356,
     "status": "ok",
     "timestamp": 1607788076484,
     "user": {
      "displayName": "Yashvardhan",
      "photoUrl": "https://lh3.googleusercontent.com/a-/AOh14GjOA2bDNbFlzIc87oEVhZJx5P5OImQZnvo7NGr4gg=s64",
      "userId": "12078069401031703493"
     },
     "user_tz": -330
    },
    "id": "RrgJyAizoujW",
    "outputId": "d00d1894-3b0d-4d93-9ff1-ccfc4295522f"
   },
   "outputs": [
    {
     "name": "stdout",
     "output_type": "stream",
     "text": [
      "Input: tensor([48.0000,  0.0000, 32.1167,  0.0000,  1.0000,  2.0000])\n",
      "Target: tensor([47120.2891])\n",
      "Prediction: tensor([25503.1895])\n"
     ]
    }
   ],
   "source": [
    "input, target = val_ds[44]\r\n",
    "predict_single(input, target, model)"
   ]
  },
  {
   "cell_type": "markdown",
   "metadata": {
    "id": "R6lqUp0khOWu"
   },
   "source": [
    "Are you happy with your model's predictions? Try to improve them further."
   ]
  },
  {
   "cell_type": "markdown",
   "metadata": {
    "id": "EXvYBlPahOWv"
   },
   "source": [
    "## (Optional) Step 6: Try another dataset & blog about it\n",
    "\n",
    "While this last step is optional for the submission of your assignment, we highly recommend that you do it. Try to replicate this notebook for a different linear regression or logistic regression problem. This will help solidify your understanding, and give you a chance to differentiate the generic patterns in machine learning from problem-specific details.You can use one of these starer notebooks (just change the dataset):\n",
    "\n",
    "- Linear regression (minimal): https://jovian.ai/aakashns/housing-linear-minimal\n",
    "- Logistic regression (minimal): https://jovian.ai/aakashns/mnist-logistic-minimal\n",
    "\n",
    "Here are some sources to find good datasets:\n",
    "\n",
    "- https://lionbridge.ai/datasets/10-open-datasets-for-linear-regression/\n",
    "- https://www.kaggle.com/rtatman/datasets-for-regression-analysis\n",
    "- https://archive.ics.uci.edu/ml/datasets.php?format=&task=reg&att=&area=&numAtt=&numIns=&type=&sort=nameUp&view=table\n",
    "- https://people.sc.fsu.edu/~jburkardt/datasets/regression/regression.html\n",
    "- https://archive.ics.uci.edu/ml/datasets/wine+quality\n",
    "- https://pytorch.org/docs/stable/torchvision/datasets.html\n",
    "\n",
    "We also recommend that you write a blog about your approach to the problem. Here is a suggested structure for your post (feel free to experiment with it):\n",
    "\n",
    "- Interesting title & subtitle\n",
    "- Overview of what the blog covers (which dataset, linear regression or logistic regression, intro to PyTorch)\n",
    "- Downloading & exploring the data\n",
    "- Preparing the data for training\n",
    "- Creating a model using PyTorch\n",
    "- Training the model to fit the data\n",
    "- Your thoughts on how to experiment with different hyperparmeters to reduce loss\n",
    "- Making predictions using the model\n",
    "\n",
    "As with the previous assignment, you can [embed Juptyer notebook cells & outputs from Jovian](https://medium.com/jovianml/share-and-embed-jupyter-notebooks-online-with-jovian-ml-df709a03064e) into your blog. \n",
    "\n",
    "Don't forget to share your work on the forum: https://jovian.ai/forum/t/linear-regression-and-logistic-regression-notebooks-and-blog-posts/14039"
   ]
  },
  {
   "cell_type": "code",
   "execution_count": 66,
   "metadata": {
    "colab": {
     "base_uri": "https://localhost:8080/",
     "height": 190
    },
    "executionInfo": {
     "elapsed": 5426,
     "status": "ok",
     "timestamp": 1607788094790,
     "user": {
      "displayName": "Yashvardhan",
      "photoUrl": "https://lh3.googleusercontent.com/a-/AOh14GjOA2bDNbFlzIc87oEVhZJx5P5OImQZnvo7NGr4gg=s64",
      "userId": "12078069401031703493"
     },
     "user_tz": -330
    },
    "id": "L6labHkUhOWw",
    "outputId": "81ceb9e5-a587-48b5-f63f-f3274b493223"
   },
   "outputs": [
    {
     "name": "stdout",
     "output_type": "stream",
     "text": [
      "[jovian] Detected Colab notebook...\u001b[0m\n",
      "[jovian] Uploading colab notebook to Jovian...\u001b[0m\n",
      "[jovian] Attaching records (metrics, hyperparameters, dataset etc.)\u001b[0m\n",
      "[jovian] Committed successfully! https://jovian.ai/vardhanyash20000/02-insurance-linear-regression\u001b[0m\n",
      "[jovian] Detected Colab notebook...\u001b[0m\n",
      "[jovian] Uploading colab notebook to Jovian...\u001b[0m\n",
      "[jovian] Attaching records (metrics, hyperparameters, dataset etc.)\u001b[0m\n",
      "[jovian] Committed successfully! https://jovian.ai/vardhanyash20000/02-insurance-linear-regression\u001b[0m\n"
     ]
    },
    {
     "data": {
      "application/vnd.google.colaboratory.intrinsic+json": {
       "type": "string"
      },
      "text/plain": [
       "'https://jovian.ai/vardhanyash20000/02-insurance-linear-regression'"
      ]
     },
     "execution_count": 66,
     "metadata": {
      "tags": []
     },
     "output_type": "execute_result"
    }
   ],
   "source": [
    "jovian.commit(project=project_name, environment=None)\n",
    "jovian.commit(project=project_name, environment=None) # try again, kaggle fails sometimes"
   ]
  },
  {
   "cell_type": "code",
   "execution_count": 67,
   "metadata": {
    "colab": {
     "base_uri": "https://localhost:8080/"
    },
    "executionInfo": {
     "elapsed": 1374,
     "status": "ok",
     "timestamp": 1607788286552,
     "user": {
      "displayName": "Yashvardhan",
      "photoUrl": "https://lh3.googleusercontent.com/a-/AOh14GjOA2bDNbFlzIc87oEVhZJx5P5OImQZnvo7NGr4gg=s64",
      "userId": "12078069401031703493"
     },
     "user_tz": -330
    },
    "id": "L1MXad7jhOWx",
    "outputId": "d918d501-f61f-46cb-c2a0-28d795be2edf"
   },
   "outputs": [
    {
     "name": "stdout",
     "output_type": "stream",
     "text": [
      "[jovian] Detected Colab notebook...\u001b[0m\n"
     ]
    },
    {
     "name": "stderr",
     "output_type": "stream",
     "text": [
      "\u001b[31m[jovian] Error: Please provide the project argument e.g. jovian.commit(project='my-project')\u001b[0m\n"
     ]
    }
   ],
   "source": [
    "jovian.submit(assignment=\"zerotogans-a2\")"
   ]
  },
  {
   "cell_type": "code",
   "execution_count": null,
   "metadata": {
    "id": "3kvBf2XUpkvh"
   },
   "outputs": [],
   "source": []
  }
 ],
 "metadata": {
  "colab": {
   "name": "02-insurance-linear.ipynb",
   "provenance": []
  },
  "language_info": {
   "codemirror_mode": {
    "name": "ipython",
    "version": 3
   },
   "file_extension": ".py",
   "mimetype": "text/x-python",
   "name": "python",
   "nbconvert_exporter": "python",
   "pygments_lexer": "ipython3",
   "version": "3.8.5"
  },
  "widgets": {
   "application/vnd.jupyter.widget-state+json": {
    "381cabbed28a4f3eb8d1e11737c4bcc3": {
     "model_module": "@jupyter-widgets/base",
     "model_name": "LayoutModel",
     "state": {
      "_model_module": "@jupyter-widgets/base",
      "_model_module_version": "1.2.0",
      "_model_name": "LayoutModel",
      "_view_count": null,
      "_view_module": "@jupyter-widgets/base",
      "_view_module_version": "1.2.0",
      "_view_name": "LayoutView",
      "align_content": null,
      "align_items": null,
      "align_self": null,
      "border": null,
      "bottom": null,
      "display": null,
      "flex": null,
      "flex_flow": null,
      "grid_area": null,
      "grid_auto_columns": null,
      "grid_auto_flow": null,
      "grid_auto_rows": null,
      "grid_column": null,
      "grid_gap": null,
      "grid_row": null,
      "grid_template_areas": null,
      "grid_template_columns": null,
      "grid_template_rows": null,
      "height": null,
      "justify_content": null,
      "justify_items": null,
      "left": null,
      "margin": null,
      "max_height": null,
      "max_width": null,
      "min_height": null,
      "min_width": null,
      "object_fit": null,
      "object_position": null,
      "order": null,
      "overflow": null,
      "overflow_x": null,
      "overflow_y": null,
      "padding": null,
      "right": null,
      "top": null,
      "visibility": null,
      "width": null
     }
    },
    "4754e04bbde44283bf101807744753f0": {
     "model_module": "@jupyter-widgets/controls",
     "model_name": "DescriptionStyleModel",
     "state": {
      "_model_module": "@jupyter-widgets/controls",
      "_model_module_version": "1.5.0",
      "_model_name": "DescriptionStyleModel",
      "_view_count": null,
      "_view_module": "@jupyter-widgets/base",
      "_view_module_version": "1.2.0",
      "_view_name": "StyleView",
      "description_width": ""
     }
    },
    "5bba82b3ab7c4ab1b3a7d6d3c656f1b1": {
     "model_module": "@jupyter-widgets/base",
     "model_name": "LayoutModel",
     "state": {
      "_model_module": "@jupyter-widgets/base",
      "_model_module_version": "1.2.0",
      "_model_name": "LayoutModel",
      "_view_count": null,
      "_view_module": "@jupyter-widgets/base",
      "_view_module_version": "1.2.0",
      "_view_name": "LayoutView",
      "align_content": null,
      "align_items": null,
      "align_self": null,
      "border": null,
      "bottom": null,
      "display": null,
      "flex": null,
      "flex_flow": null,
      "grid_area": null,
      "grid_auto_columns": null,
      "grid_auto_flow": null,
      "grid_auto_rows": null,
      "grid_column": null,
      "grid_gap": null,
      "grid_row": null,
      "grid_template_areas": null,
      "grid_template_columns": null,
      "grid_template_rows": null,
      "height": null,
      "justify_content": null,
      "justify_items": null,
      "left": null,
      "margin": null,
      "max_height": null,
      "max_width": null,
      "min_height": null,
      "min_width": null,
      "object_fit": null,
      "object_position": null,
      "order": null,
      "overflow": null,
      "overflow_x": null,
      "overflow_y": null,
      "padding": null,
      "right": null,
      "top": null,
      "visibility": null,
      "width": null
     }
    },
    "60a323a624b242c3a9cd9d5dfccf2617": {
     "model_module": "@jupyter-widgets/base",
     "model_name": "LayoutModel",
     "state": {
      "_model_module": "@jupyter-widgets/base",
      "_model_module_version": "1.2.0",
      "_model_name": "LayoutModel",
      "_view_count": null,
      "_view_module": "@jupyter-widgets/base",
      "_view_module_version": "1.2.0",
      "_view_name": "LayoutView",
      "align_content": null,
      "align_items": null,
      "align_self": null,
      "border": null,
      "bottom": null,
      "display": null,
      "flex": null,
      "flex_flow": null,
      "grid_area": null,
      "grid_auto_columns": null,
      "grid_auto_flow": null,
      "grid_auto_rows": null,
      "grid_column": null,
      "grid_gap": null,
      "grid_row": null,
      "grid_template_areas": null,
      "grid_template_columns": null,
      "grid_template_rows": null,
      "height": null,
      "justify_content": null,
      "justify_items": null,
      "left": null,
      "margin": null,
      "max_height": null,
      "max_width": null,
      "min_height": null,
      "min_width": null,
      "object_fit": null,
      "object_position": null,
      "order": null,
      "overflow": null,
      "overflow_x": null,
      "overflow_y": null,
      "padding": null,
      "right": null,
      "top": null,
      "visibility": null,
      "width": null
     }
    },
    "746bcf09c7294381b63cf4a5ea85aaca": {
     "model_module": "@jupyter-widgets/controls",
     "model_name": "ProgressStyleModel",
     "state": {
      "_model_module": "@jupyter-widgets/controls",
      "_model_module_version": "1.5.0",
      "_model_name": "ProgressStyleModel",
      "_view_count": null,
      "_view_module": "@jupyter-widgets/base",
      "_view_module_version": "1.2.0",
      "_view_name": "StyleView",
      "bar_color": null,
      "description_width": "initial"
     }
    },
    "7742762e16de4c7a91f9241edb372678": {
     "model_module": "@jupyter-widgets/controls",
     "model_name": "FloatProgressModel",
     "state": {
      "_dom_classes": [],
      "_model_module": "@jupyter-widgets/controls",
      "_model_module_version": "1.5.0",
      "_model_name": "FloatProgressModel",
      "_view_count": null,
      "_view_module": "@jupyter-widgets/controls",
      "_view_module_version": "1.5.0",
      "_view_name": "ProgressView",
      "bar_style": "success",
      "description": "",
      "description_tooltip": null,
      "layout": "IPY_MODEL_381cabbed28a4f3eb8d1e11737c4bcc3",
      "max": 1,
      "min": 0,
      "orientation": "horizontal",
      "style": "IPY_MODEL_746bcf09c7294381b63cf4a5ea85aaca",
      "value": 1
     }
    },
    "9b8745c2522144d08e0dc9a68705fc2a": {
     "model_module": "@jupyter-widgets/controls",
     "model_name": "HTMLModel",
     "state": {
      "_dom_classes": [],
      "_model_module": "@jupyter-widgets/controls",
      "_model_module_version": "1.5.0",
      "_model_name": "HTMLModel",
      "_view_count": null,
      "_view_module": "@jupyter-widgets/controls",
      "_view_module_version": "1.5.0",
      "_view_name": "HTMLView",
      "description": "",
      "description_tooltip": null,
      "layout": "IPY_MODEL_60a323a624b242c3a9cd9d5dfccf2617",
      "placeholder": "​",
      "style": "IPY_MODEL_4754e04bbde44283bf101807744753f0",
      "value": " 57344/? [00:01&lt;00:00, 30443.60it/s]"
     }
    },
    "f21a332d798340489b139530bed8bede": {
     "model_module": "@jupyter-widgets/controls",
     "model_name": "HBoxModel",
     "state": {
      "_dom_classes": [],
      "_model_module": "@jupyter-widgets/controls",
      "_model_module_version": "1.5.0",
      "_model_name": "HBoxModel",
      "_view_count": null,
      "_view_module": "@jupyter-widgets/controls",
      "_view_module_version": "1.5.0",
      "_view_name": "HBoxView",
      "box_style": "",
      "children": [
       "IPY_MODEL_7742762e16de4c7a91f9241edb372678",
       "IPY_MODEL_9b8745c2522144d08e0dc9a68705fc2a"
      ],
      "layout": "IPY_MODEL_5bba82b3ab7c4ab1b3a7d6d3c656f1b1"
     }
    }
   }
  }
 },
 "nbformat": 4,
 "nbformat_minor": 0
}