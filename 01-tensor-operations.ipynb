{
 "cells": [
  {
   "cell_type": "markdown",
   "metadata": {
    "id": "W0vRt9fGQZOG"
   },
   "source": [
    " 5 Functions that you need to know in pytorch.\n",
    "\n",
    "An short introduction about PyTorch and about the chosen functions. \n",
    "\n",
    "- torch.bitwise_and\n",
    "- torch.arange\n",
    "- torch.narrow\n",
    "- torch.exp\n",
    "- torch.chunk\n",
    "\n",
    "Before we begin, let's install and import PyTorch"
   ]
  },
  {
   "cell_type": "code",
   "execution_count": null,
   "metadata": {
    "id": "aRJQ8qCFQZOG"
   },
   "outputs": [],
   "source": [
    "# Uncomment and run the appropriate command for your operating system, if required\n",
    "\n",
    "# Linux / Binder\n",
    "# !pip install numpy torch==1.7.0+cpu torchvision==0.8.1+cpu torchaudio==0.7.0 -f https://download.pytorch.org/whl/torch_stable.html\n",
    "\n",
    "# Windows\n",
    "# !pip install numpy torch==1.7.0+cpu torchvision==0.8.1+cpu torchaudio==0.7.0 -f https://download.pytorch.org/whl/torch_stable.html\n",
    "\n",
    "# MacOS\n",
    "# !pip install numpy torch torchvision torchaudio"
   ]
  },
  {
   "cell_type": "code",
   "execution_count": 2,
   "metadata": {
    "executionInfo": {
     "elapsed": 5026,
     "status": "ok",
     "timestamp": 1607236744249,
     "user": {
      "displayName": "Yashvardhan",
      "photoUrl": "https://lh3.googleusercontent.com/a-/AOh14GjOA2bDNbFlzIc87oEVhZJx5P5OImQZnvo7NGr4gg=s64",
      "userId": "12078069401031703493"
     },
     "user_tz": -330
    },
    "id": "KBT2N9m5QZOG"
   },
   "outputs": [],
   "source": [
    "# Import torch and other required modules\n",
    "import torch"
   ]
  },
  {
   "cell_type": "markdown",
   "metadata": {
    "id": "O5GTFGujQZOH"
   },
   "source": [
    "## Function 1 - torch.bitwise_and(pointwise operations)\n",
    "\n",
    "Computes the bitwise and operation on two given tensors.\n"
   ]
  },
  {
   "cell_type": "code",
   "execution_count": 4,
   "metadata": {
    "colab": {
     "base_uri": "https://localhost:8080/"
    },
    "executionInfo": {
     "elapsed": 1039,
     "status": "ok",
     "timestamp": 1607173953608,
     "user": {
      "displayName": "Yashvardhan",
      "photoUrl": "https://lh3.googleusercontent.com/a-/AOh14GjOA2bDNbFlzIc87oEVhZJx5P5OImQZnvo7NGr4gg=s64",
      "userId": "12078069401031703493"
     },
     "user_tz": -330
    },
    "id": "kDsbJtxSQZOH",
    "outputId": "34a978d0-9ea7-490e-cc1d-e9a5db67730f"
   },
   "outputs": [
    {
     "data": {
      "text/plain": [
       "tensor([0, 1, 0], dtype=torch.int8)"
      ]
     },
     "execution_count": 4,
     "metadata": {
      "tags": []
     },
     "output_type": "execute_result"
    }
   ],
   "source": [
    "# Example 1 - working (change this)\n",
    "torch.bitwise_and(torch.tensor([2, 1, -4], dtype=torch.int8), torch.tensor([5, -1, 2], dtype=torch.int8))"
   ]
  },
  {
   "cell_type": "markdown",
   "metadata": {
    "id": "PtR7qQhtQZOL"
   },
   "source": [
    "Explanation about example:- The above example returns 0,1,0 after applying bitwise AND between (2,5), (1,-1), and (-4,2)."
   ]
  },
  {
   "cell_type": "code",
   "execution_count": 3,
   "metadata": {
    "colab": {
     "base_uri": "https://localhost:8080/"
    },
    "executionInfo": {
     "elapsed": 2867,
     "status": "ok",
     "timestamp": 1607236749342,
     "user": {
      "displayName": "Yashvardhan",
      "photoUrl": "https://lh3.googleusercontent.com/a-/AOh14GjOA2bDNbFlzIc87oEVhZJx5P5OImQZnvo7NGr4gg=s64",
      "userId": "12078069401031703493"
     },
     "user_tz": -330
    },
    "id": "FgIAngHhQZOL",
    "outputId": "48a41786-1b36-4dcd-a2ef-511700242432"
   },
   "outputs": [
    {
     "data": {
      "text/plain": [
       "tensor([False, False])"
      ]
     },
     "execution_count": 3,
     "metadata": {
      "tags": []
     },
     "output_type": "execute_result"
    }
   ],
   "source": [
    "# Example 2 - working\n",
    "torch.bitwise_and(torch.tensor([True,False]), torch.tensor([False,True]))"
   ]
  },
  {
   "cell_type": "markdown",
   "metadata": {
    "id": "GMba0gPgQZOL"
   },
   "source": [
    "Explanation about example:- This example Takes tensor values and returned boolean by applying Logical AND between those two values."
   ]
  },
  {
   "cell_type": "code",
   "execution_count": 4,
   "metadata": {
    "colab": {
     "base_uri": "https://localhost:8080/",
     "height": 178
    },
    "executionInfo": {
     "elapsed": 953,
     "status": "error",
     "timestamp": 1607236958864,
     "user": {
      "displayName": "Yashvardhan",
      "photoUrl": "https://lh3.googleusercontent.com/a-/AOh14GjOA2bDNbFlzIc87oEVhZJx5P5OImQZnvo7NGr4gg=s64",
      "userId": "12078069401031703493"
     },
     "user_tz": -330
    },
    "id": "Gc1UeZDpQZOL",
    "outputId": "98de42e1-91a4-46eb-fcc4-470a2ddddb1d"
   },
   "outputs": [
    {
     "ename": "RuntimeError",
     "evalue": "ignored",
     "output_type": "error",
     "traceback": [
      "\u001b[0;31m---------------------------------------------------------------------------\u001b[0m",
      "\u001b[0;31mRuntimeError\u001b[0m                              Traceback (most recent call last)",
      "\u001b[0;32m<ipython-input-4-ef9d506de57d>\u001b[0m in \u001b[0;36m<module>\u001b[0;34m()\u001b[0m\n\u001b[1;32m      1\u001b[0m \u001b[0;31m# Example 3 - breaking (to illustrate when it breaks)\u001b[0m\u001b[0;34m\u001b[0m\u001b[0;34m\u001b[0m\u001b[0;34m\u001b[0m\u001b[0m\n\u001b[0;32m----> 2\u001b[0;31m \u001b[0mtorch\u001b[0m\u001b[0;34m.\u001b[0m\u001b[0mbitwise_and\u001b[0m\u001b[0;34m(\u001b[0m\u001b[0mtorch\u001b[0m\u001b[0;34m.\u001b[0m\u001b[0mtensor\u001b[0m\u001b[0;34m(\u001b[0m\u001b[0;34m[\u001b[0m\u001b[0;36m1.\u001b[0m\u001b[0;34m,\u001b[0m \u001b[0;36m2.\u001b[0m\u001b[0;34m,\u001b[0m\u001b[0;36m4.\u001b[0m\u001b[0;34m]\u001b[0m\u001b[0;34m,\u001b[0m \u001b[0mdtype\u001b[0m\u001b[0;34m=\u001b[0m\u001b[0mtorch\u001b[0m\u001b[0;34m.\u001b[0m\u001b[0mfloat32\u001b[0m\u001b[0;34m)\u001b[0m\u001b[0;34m,\u001b[0m \u001b[0mtorch\u001b[0m\u001b[0;34m.\u001b[0m\u001b[0mtensor\u001b[0m\u001b[0;34m(\u001b[0m\u001b[0;34m[\u001b[0m\u001b[0;36m3.\u001b[0m\u001b[0;34m,\u001b[0m \u001b[0;36m4.\u001b[0m\u001b[0;34m,\u001b[0m \u001b[0;36m5.\u001b[0m\u001b[0;34m]\u001b[0m\u001b[0;34m,\u001b[0m \u001b[0mdtype\u001b[0m\u001b[0;34m=\u001b[0m\u001b[0mtorch\u001b[0m\u001b[0;34m.\u001b[0m\u001b[0mfloat32\u001b[0m\u001b[0;34m)\u001b[0m\u001b[0;34m)\u001b[0m\u001b[0;34m\u001b[0m\u001b[0;34m\u001b[0m\u001b[0m\n\u001b[0m",
      "\u001b[0;31mRuntimeError\u001b[0m: \"bitwise_and_cpu\" not implemented for 'Float'"
     ]
    }
   ],
   "source": [
    "# Example 3 - breaking (to illustrate when it breaks)\n",
    "torch.bitwise_and(torch.tensor([1., 2.,4.], dtype=torch.float32), torch.tensor([3., 4., 5.], dtype=torch.float32))"
   ]
  },
  {
   "cell_type": "markdown",
   "metadata": {
    "id": "SZSgRddZQZOM"
   },
   "source": [
    "Explanation about example:- This function do not implement float values as these values are not casted into desired output type which is long and gives RUNTIME ERROR."
   ]
  },
  {
   "cell_type": "markdown",
   "metadata": {
    "id": "krP9_bbzQZOM"
   },
   "source": [
    "Closing comments about when to use this function:- This function is used when we want to find bitwise or logical AND between tensors."
   ]
  },
  {
   "cell_type": "markdown",
   "metadata": {
    "id": "SUU0EUyDQZOM"
   },
   "source": [
    "Let's save our work using Jovian before continuing."
   ]
  },
  {
   "cell_type": "code",
   "execution_count": 10,
   "metadata": {
    "executionInfo": {
     "elapsed": 3634,
     "status": "ok",
     "timestamp": 1607237564898,
     "user": {
      "displayName": "Yashvardhan",
      "photoUrl": "https://lh3.googleusercontent.com/a-/AOh14GjOA2bDNbFlzIc87oEVhZJx5P5OImQZnvo7NGr4gg=s64",
      "userId": "12078069401031703493"
     },
     "user_tz": -330
    },
    "id": "9Mb-u3eTQZOM"
   },
   "outputs": [],
   "source": [
    "!pip install jovian --upgrade --quiet"
   ]
  },
  {
   "cell_type": "code",
   "execution_count": 11,
   "metadata": {
    "executionInfo": {
     "elapsed": 1005,
     "status": "ok",
     "timestamp": 1607237567850,
     "user": {
      "displayName": "Yashvardhan",
      "photoUrl": "https://lh3.googleusercontent.com/a-/AOh14GjOA2bDNbFlzIc87oEVhZJx5P5OImQZnvo7NGr4gg=s64",
      "userId": "12078069401031703493"
     },
     "user_tz": -330
    },
    "id": "-FAYMhWMQZOM"
   },
   "outputs": [],
   "source": [
    "import jovian"
   ]
  },
  {
   "cell_type": "code",
   "execution_count": 14,
   "metadata": {
    "colab": {
     "base_uri": "https://localhost:8080/",
     "height": 136
    },
    "executionInfo": {
     "elapsed": 20337,
     "status": "ok",
     "timestamp": 1607237844419,
     "user": {
      "displayName": "Yashvardhan",
      "photoUrl": "https://lh3.googleusercontent.com/a-/AOh14GjOA2bDNbFlzIc87oEVhZJx5P5OImQZnvo7NGr4gg=s64",
      "userId": "12078069401031703493"
     },
     "user_tz": -330
    },
    "id": "rCTm4VmiQZOM",
    "outputId": "f82bc1e6-5e22-4206-cd5a-0ad66b081d11"
   },
   "outputs": [
    {
     "name": "stdout",
     "output_type": "stream",
     "text": [
      "[jovian] Detected Colab notebook...\u001b[0m\n",
      "[jovian] Please enter your API key ( from https://jovian.ai/ ):\u001b[0m\n",
      "API KEY: ··········\n",
      "[jovian] Uploading colab notebook to Jovian...\u001b[0m\n",
      "[jovian] Capturing environment..\u001b[0m\n",
      "[jovian] Committed successfully! https://jovian.ai/vardhanyash20000/01-tensor-operations\u001b[0m\n"
     ]
    },
    {
     "data": {
      "application/vnd.google.colaboratory.intrinsic+json": {
       "type": "string"
      },
      "text/plain": [
       "'https://jovian.ai/vardhanyash20000/01-tensor-operations'"
      ]
     },
     "execution_count": 14,
     "metadata": {
      "tags": []
     },
     "output_type": "execute_result"
    }
   ],
   "source": [
    "jovian.commit(project='01-tensor-operations')"
   ]
  },
  {
   "cell_type": "markdown",
   "metadata": {
    "id": "dMBRDcIEQZON"
   },
   "source": [
    "## Function 2 -torch.arange(creation operations)\n",
    " This function arranges the values between two digit with the difference mentioned with inputs."
   ]
  },
  {
   "cell_type": "code",
   "execution_count": 16,
   "metadata": {
    "colab": {
     "base_uri": "https://localhost:8080/"
    },
    "executionInfo": {
     "elapsed": 985,
     "status": "ok",
     "timestamp": 1607238313949,
     "user": {
      "displayName": "Yashvardhan",
      "photoUrl": "https://lh3.googleusercontent.com/a-/AOh14GjOA2bDNbFlzIc87oEVhZJx5P5OImQZnvo7NGr4gg=s64",
      "userId": "12078069401031703493"
     },
     "user_tz": -330
    },
    "id": "15hWXIBaQZON",
    "outputId": "fc3a2b6d-444b-4dc0-ea79-ee1e9c305f96"
   },
   "outputs": [
    {
     "data": {
      "text/plain": [
       "tensor([0, 1, 2, 3, 4, 5, 6, 7, 8, 9])"
      ]
     },
     "execution_count": 16,
     "metadata": {
      "tags": []
     },
     "output_type": "execute_result"
    }
   ],
   "source": [
    "# Example 1 - working\n",
    "torch.arange(10)"
   ]
  },
  {
   "cell_type": "markdown",
   "metadata": {
    "id": "NEuIx2xyQZON"
   },
   "source": [
    "Explanation about example:- It generated the values by default starting from 0 upto n-1(which is 10 in this case)"
   ]
  },
  {
   "cell_type": "code",
   "execution_count": 17,
   "metadata": {
    "colab": {
     "base_uri": "https://localhost:8080/"
    },
    "executionInfo": {
     "elapsed": 1010,
     "status": "ok",
     "timestamp": 1607238438875,
     "user": {
      "displayName": "Yashvardhan",
      "photoUrl": "https://lh3.googleusercontent.com/a-/AOh14GjOA2bDNbFlzIc87oEVhZJx5P5OImQZnvo7NGr4gg=s64",
      "userId": "12078069401031703493"
     },
     "user_tz": -330
    },
    "id": "0GDUTrSwQZON",
    "outputId": "d8320fb5-be38-45d8-a2ea-20975b6ce180"
   },
   "outputs": [
    {
     "data": {
      "text/plain": [
       "tensor([ 5, 10, 15, 20, 25, 30, 35, 40, 45, 50, 55, 60, 65, 70, 75, 80, 85])"
      ]
     },
     "execution_count": 17,
     "metadata": {
      "tags": []
     },
     "output_type": "execute_result"
    }
   ],
   "source": [
    "# Example 2 - working\n",
    "torch.arange(5,90,5)"
   ]
  },
  {
   "cell_type": "markdown",
   "metadata": {
    "id": "FF9vWxeiQZON"
   },
   "source": [
    "Explanation about example:- Here the start value is 5(included in result) the ending value is 90(which is not included as it displays n-1) and the difference between values is 5."
   ]
  },
  {
   "cell_type": "code",
   "execution_count": 18,
   "metadata": {
    "colab": {
     "base_uri": "https://localhost:8080/",
     "height": 178
    },
    "executionInfo": {
     "elapsed": 976,
     "status": "error",
     "timestamp": 1607238566893,
     "user": {
      "displayName": "Yashvardhan",
      "photoUrl": "https://lh3.googleusercontent.com/a-/AOh14GjOA2bDNbFlzIc87oEVhZJx5P5OImQZnvo7NGr4gg=s64",
      "userId": "12078069401031703493"
     },
     "user_tz": -330
    },
    "id": "WDnxXImTQZON",
    "outputId": "3f54f5f9-5b6d-4758-e64d-9124872f1498"
   },
   "outputs": [
    {
     "ename": "RuntimeError",
     "evalue": "ignored",
     "output_type": "error",
     "traceback": [
      "\u001b[0;31m---------------------------------------------------------------------------\u001b[0m",
      "\u001b[0;31mRuntimeError\u001b[0m                              Traceback (most recent call last)",
      "\u001b[0;32m<ipython-input-18-72360a97f4cf>\u001b[0m in \u001b[0;36m<module>\u001b[0;34m()\u001b[0m\n\u001b[1;32m      1\u001b[0m \u001b[0;31m# Example 3 - breaking (to illustrate when it breaks)\u001b[0m\u001b[0;34m\u001b[0m\u001b[0;34m\u001b[0m\u001b[0;34m\u001b[0m\u001b[0m\n\u001b[0;32m----> 2\u001b[0;31m \u001b[0mtorch\u001b[0m\u001b[0;34m.\u001b[0m\u001b[0marange\u001b[0m\u001b[0;34m(\u001b[0m\u001b[0;36m5\u001b[0m\u001b[0;34m,\u001b[0m\u001b[0;36m3\u001b[0m\u001b[0;34m,\u001b[0m\u001b[0;36m1\u001b[0m\u001b[0;34m)\u001b[0m\u001b[0;34m\u001b[0m\u001b[0;34m\u001b[0m\u001b[0m\n\u001b[0m",
      "\u001b[0;31mRuntimeError\u001b[0m: upper bound and larger bound inconsistent with step sign"
     ]
    }
   ],
   "source": [
    "# Example 3 - breaking (to illustrate when it breaks)\n",
    "torch.arange(5,3,1)"
   ]
  },
  {
   "cell_type": "markdown",
   "metadata": {
    "id": "_gLzWZFoQZON"
   },
   "source": [
    "Explanation about example:- Starting value can never be greater than end value unless the difference is negative which implies that it is counting backwards."
   ]
  },
  {
   "cell_type": "markdown",
   "metadata": {
    "id": "rfHG1w0zQZON"
   },
   "source": [
    "Closing comments about when to use this function:- This finction is used when we want to have values at constant intervals."
   ]
  },
  {
   "cell_type": "code",
   "execution_count": 19,
   "metadata": {
    "colab": {
     "base_uri": "https://localhost:8080/",
     "height": 102
    },
    "executionInfo": {
     "elapsed": 4349,
     "status": "ok",
     "timestamp": 1607238795377,
     "user": {
      "displayName": "Yashvardhan",
      "photoUrl": "https://lh3.googleusercontent.com/a-/AOh14GjOA2bDNbFlzIc87oEVhZJx5P5OImQZnvo7NGr4gg=s64",
      "userId": "12078069401031703493"
     },
     "user_tz": -330
    },
    "id": "IzaXIN4BQZON",
    "outputId": "c22e9446-2274-4142-f147-3838a372088e"
   },
   "outputs": [
    {
     "name": "stdout",
     "output_type": "stream",
     "text": [
      "[jovian] Detected Colab notebook...\u001b[0m\n",
      "[jovian] Uploading colab notebook to Jovian...\u001b[0m\n",
      "[jovian] Capturing environment..\u001b[0m\n",
      "[jovian] Committed successfully! https://jovian.ai/vardhanyash20000/01-tensor-operations\u001b[0m\n"
     ]
    },
    {
     "data": {
      "application/vnd.google.colaboratory.intrinsic+json": {
       "type": "string"
      },
      "text/plain": [
       "'https://jovian.ai/vardhanyash20000/01-tensor-operations'"
      ]
     },
     "execution_count": 19,
     "metadata": {
      "tags": []
     },
     "output_type": "execute_result"
    }
   ],
   "source": [
    "jovian.commit(project='01-tensor-operations')"
   ]
  },
  {
   "cell_type": "markdown",
   "metadata": {
    "id": "vXB4_k34QZON"
   },
   "source": [
    "## Function 3 - torch.narrow(Indexing,Slicing,Mutating operations)\n",
    "\n",
    "Add some explanations:- Returns a narrowed version of input tensor"
   ]
  },
  {
   "cell_type": "code",
   "execution_count": 22,
   "metadata": {
    "colab": {
     "base_uri": "https://localhost:8080/"
    },
    "executionInfo": {
     "elapsed": 955,
     "status": "ok",
     "timestamp": 1607239239853,
     "user": {
      "displayName": "Yashvardhan",
      "photoUrl": "https://lh3.googleusercontent.com/a-/AOh14GjOA2bDNbFlzIc87oEVhZJx5P5OImQZnvo7NGr4gg=s64",
      "userId": "12078069401031703493"
     },
     "user_tz": -330
    },
    "id": "TvAjL3NfQZON",
    "outputId": "fb167dce-e5ad-4a14-ee08-e4d0d1e5aefc"
   },
   "outputs": [
    {
     "data": {
      "text/plain": [
       "tensor([[5, 2, 7],\n",
       "        [5, 0, 6]])"
      ]
     },
     "execution_count": 22,
     "metadata": {
      "tags": []
     },
     "output_type": "execute_result"
    }
   ],
   "source": [
    "# Example 1 - working\n",
    "t=torch.tensor([[5, 2, 7], [5, 0, 6], [7, 12, 14]])\n",
    "torch.narrow(t,0,0,2)"
   ]
  },
  {
   "cell_type": "markdown",
   "metadata": {
    "id": "q4h7GClBQZOO"
   },
   "source": [
    "Explanation about example:-The tensor t is narrowed along the dimension = 0 starting from the index position start = 0 to ending start+length = 2+0 = 2, with excluding the ending."
   ]
  },
  {
   "cell_type": "code",
   "execution_count": 23,
   "metadata": {
    "colab": {
     "base_uri": "https://localhost:8080/"
    },
    "executionInfo": {
     "elapsed": 1026,
     "status": "ok",
     "timestamp": 1607239630718,
     "user": {
      "displayName": "Yashvardhan",
      "photoUrl": "https://lh3.googleusercontent.com/a-/AOh14GjOA2bDNbFlzIc87oEVhZJx5P5OImQZnvo7NGr4gg=s64",
      "userId": "12078069401031703493"
     },
     "user_tz": -330
    },
    "id": "dL1Gap9qQZOO",
    "outputId": "b0234333-bcd2-4c4a-b920-9c0ae2b72e1b"
   },
   "outputs": [
    {
     "data": {
      "text/plain": [
       "tensor([[ 2,  7],\n",
       "        [ 0,  6],\n",
       "        [12, 14]])"
      ]
     },
     "execution_count": 23,
     "metadata": {
      "tags": []
     },
     "output_type": "execute_result"
    }
   ],
   "source": [
    "# Example 2 - working\n",
    "torch.narrow(t,1,1,2)"
   ]
  },
  {
   "cell_type": "markdown",
   "metadata": {
    "id": "S1Yd0eT1QZOO"
   },
   "source": [
    "Explanation about example:-here the dimension was 1 which resulted into slicing of 1 element from each and remaining two were saved including the ending."
   ]
  },
  {
   "cell_type": "code",
   "execution_count": 24,
   "metadata": {
    "colab": {
     "base_uri": "https://localhost:8080/",
     "height": 178
    },
    "executionInfo": {
     "elapsed": 1055,
     "status": "error",
     "timestamp": 1607239810932,
     "user": {
      "displayName": "Yashvardhan",
      "photoUrl": "https://lh3.googleusercontent.com/a-/AOh14GjOA2bDNbFlzIc87oEVhZJx5P5OImQZnvo7NGr4gg=s64",
      "userId": "12078069401031703493"
     },
     "user_tz": -330
    },
    "id": "zSvWCeQpQZOO",
    "outputId": "84679d5a-7974-4107-ce57-37a3a16f7962"
   },
   "outputs": [
    {
     "ename": "RuntimeError",
     "evalue": "ignored",
     "output_type": "error",
     "traceback": [
      "\u001b[0;31m---------------------------------------------------------------------------\u001b[0m",
      "\u001b[0;31mRuntimeError\u001b[0m                              Traceback (most recent call last)",
      "\u001b[0;32m<ipython-input-24-863dc8f61840>\u001b[0m in \u001b[0;36m<module>\u001b[0;34m()\u001b[0m\n\u001b[1;32m      1\u001b[0m \u001b[0;31m# Example 3 - breaking (to illustrate when it breaks)\u001b[0m\u001b[0;34m\u001b[0m\u001b[0;34m\u001b[0m\u001b[0;34m\u001b[0m\u001b[0m\n\u001b[0;32m----> 2\u001b[0;31m \u001b[0mtorch\u001b[0m\u001b[0;34m.\u001b[0m\u001b[0mnarrow\u001b[0m\u001b[0;34m(\u001b[0m\u001b[0mt\u001b[0m\u001b[0;34m,\u001b[0m\u001b[0;36m1\u001b[0m\u001b[0;34m,\u001b[0m\u001b[0;36m1\u001b[0m\u001b[0;34m,\u001b[0m\u001b[0;36m3\u001b[0m\u001b[0;34m)\u001b[0m\u001b[0;34m\u001b[0m\u001b[0;34m\u001b[0m\u001b[0m\n\u001b[0m",
      "\u001b[0;31mRuntimeError\u001b[0m: start (1) + length (3) exceeds dimension size (3)."
     ]
    }
   ],
   "source": [
    "# Example 3 - breaking (to illustrate when it breaks)\n",
    "torch.narrow(t,1,1,3)"
   ]
  },
  {
   "cell_type": "markdown",
   "metadata": {
    "id": "_OQR6wT9QZOO"
   },
   "source": [
    "Explanation about example:- Here we can see the start+length exceeded the maximum index and it throws runtime error."
   ]
  },
  {
   "cell_type": "markdown",
   "metadata": {
    "id": "0kB2m1raQZOO"
   },
   "source": [
    "Closing comments about when to use this function:-This function can be used to slice larger tensors without writing the dimension directly and not using : ."
   ]
  },
  {
   "cell_type": "code",
   "execution_count": 25,
   "metadata": {
    "colab": {
     "base_uri": "https://localhost:8080/",
     "height": 102
    },
    "executionInfo": {
     "elapsed": 4706,
     "status": "ok",
     "timestamp": 1607239983903,
     "user": {
      "displayName": "Yashvardhan",
      "photoUrl": "https://lh3.googleusercontent.com/a-/AOh14GjOA2bDNbFlzIc87oEVhZJx5P5OImQZnvo7NGr4gg=s64",
      "userId": "12078069401031703493"
     },
     "user_tz": -330
    },
    "id": "dx5qdPASQZOO",
    "outputId": "ab7c7f03-5ec4-490b-b9da-40b04b643a0b"
   },
   "outputs": [
    {
     "name": "stdout",
     "output_type": "stream",
     "text": [
      "[jovian] Detected Colab notebook...\u001b[0m\n",
      "[jovian] Uploading colab notebook to Jovian...\u001b[0m\n",
      "[jovian] Capturing environment..\u001b[0m\n",
      "[jovian] Committed successfully! https://jovian.ai/vardhanyash20000/01-tensor-operations\u001b[0m\n"
     ]
    },
    {
     "data": {
      "application/vnd.google.colaboratory.intrinsic+json": {
       "type": "string"
      },
      "text/plain": [
       "'https://jovian.ai/vardhanyash20000/01-tensor-operations'"
      ]
     },
     "execution_count": 25,
     "metadata": {
      "tags": []
     },
     "output_type": "execute_result"
    }
   ],
   "source": [
    "jovian.commit(project='01-tensor-operations')"
   ]
  },
  {
   "cell_type": "markdown",
   "metadata": {
    "id": "7nCCiC5XQZOP"
   },
   "source": [
    "## Function 4 - torch.exp(Pointwise operations)\n",
    "\n",
    "Add some explanations:-Computes the base two exponential function of input."
   ]
  },
  {
   "cell_type": "code",
   "execution_count": 30,
   "metadata": {
    "colab": {
     "base_uri": "https://localhost:8080/"
    },
    "executionInfo": {
     "elapsed": 1004,
     "status": "ok",
     "timestamp": 1607240829501,
     "user": {
      "displayName": "Yashvardhan",
      "photoUrl": "https://lh3.googleusercontent.com/a-/AOh14GjOA2bDNbFlzIc87oEVhZJx5P5OImQZnvo7NGr4gg=s64",
      "userId": "12078069401031703493"
     },
     "user_tz": -330
    },
    "id": "4iLFe_ToQZOP",
    "outputId": "3e0e918b-a981-4143-cfc9-64e409e1c8ce"
   },
   "outputs": [
    {
     "data": {
      "text/plain": [
       "tensor([492.7490,   1.0000])"
      ]
     },
     "execution_count": 30,
     "metadata": {
      "tags": []
     },
     "output_type": "execute_result"
    }
   ],
   "source": [
    "# Example 1 - working\n",
    "t=torch.tensor([6.2,0])\n",
    "torch.exp(t)"
   ]
  },
  {
   "cell_type": "markdown",
   "metadata": {
    "id": "uhYcAAzSQZOP"
   },
   "source": [
    "Explanation about example:-It takes values as power of e and returns the result."
   ]
  },
  {
   "cell_type": "code",
   "execution_count": 32,
   "metadata": {
    "colab": {
     "base_uri": "https://localhost:8080/"
    },
    "executionInfo": {
     "elapsed": 1011,
     "status": "ok",
     "timestamp": 1607241328196,
     "user": {
      "displayName": "Yashvardhan",
      "photoUrl": "https://lh3.googleusercontent.com/a-/AOh14GjOA2bDNbFlzIc87oEVhZJx5P5OImQZnvo7NGr4gg=s64",
      "userId": "12078069401031703493"
     },
     "user_tz": -330
    },
    "id": "qdcpVXiwQZOP",
    "outputId": "b475083a-428b-4260-ddf9-0e377c295b26"
   },
   "outputs": [
    {
     "data": {
      "text/plain": [
       "tensor([1., 2.])"
      ]
     },
     "execution_count": 32,
     "metadata": {
      "tags": []
     },
     "output_type": "execute_result"
    }
   ],
   "source": [
    "# Example 2 - working\n",
    "import math\n",
    "torch.exp(torch.tensor([0, math.log(2.)]))"
   ]
  },
  {
   "cell_type": "markdown",
   "metadata": {
    "id": "2sgteAnFQZOP"
   },
   "source": [
    "Explanation about example:-Logarithmic function with base e if raised as a power of e then it simply returns the value which is passed through log function.\n"
   ]
  },
  {
   "cell_type": "code",
   "execution_count": 33,
   "metadata": {
    "colab": {
     "base_uri": "https://localhost:8080/",
     "height": 195
    },
    "executionInfo": {
     "elapsed": 1827,
     "status": "error",
     "timestamp": 1607241776511,
     "user": {
      "displayName": "Yashvardhan",
      "photoUrl": "https://lh3.googleusercontent.com/a-/AOh14GjOA2bDNbFlzIc87oEVhZJx5P5OImQZnvo7NGr4gg=s64",
      "userId": "12078069401031703493"
     },
     "user_tz": -330
    },
    "id": "b_eLO1UKQZOP",
    "outputId": "324c2492-c373-477b-d71c-61ca13d927c2"
   },
   "outputs": [
    {
     "ename": "NameError",
     "evalue": "ignored",
     "output_type": "error",
     "traceback": [
      "\u001b[0;31m---------------------------------------------------------------------------\u001b[0m",
      "\u001b[0;31mNameError\u001b[0m                                 Traceback (most recent call last)",
      "\u001b[0;32m<ipython-input-33-b50704b23540>\u001b[0m in \u001b[0;36m<module>\u001b[0;34m()\u001b[0m\n\u001b[1;32m      1\u001b[0m \u001b[0;31m# Example 3 - breaking (to illustrate when it breaks)\u001b[0m\u001b[0;34m\u001b[0m\u001b[0;34m\u001b[0m\u001b[0;34m\u001b[0m\u001b[0m\n\u001b[0;32m----> 2\u001b[0;31m \u001b[0mx\u001b[0m\u001b[0;34m=\u001b[0m\u001b[0mtorch\u001b[0m\u001b[0;34m.\u001b[0m\u001b[0mtensor\u001b[0m\u001b[0;34m(\u001b[0m\u001b[0;34m[\u001b[0m\u001b[0ma\u001b[0m\u001b[0;34m]\u001b[0m\u001b[0;34m)\u001b[0m\u001b[0;34m\u001b[0m\u001b[0;34m\u001b[0m\u001b[0m\n\u001b[0m\u001b[1;32m      3\u001b[0m \u001b[0mtorch\u001b[0m\u001b[0;34m.\u001b[0m\u001b[0mexp\u001b[0m\u001b[0;34m(\u001b[0m\u001b[0mx\u001b[0m\u001b[0;34m)\u001b[0m\u001b[0;34m\u001b[0m\u001b[0;34m\u001b[0m\u001b[0m\n",
      "\u001b[0;31mNameError\u001b[0m: name 'a' is not defined"
     ]
    }
   ],
   "source": [
    "# Example 3 - breaking (to illustrate when it breaks)\n",
    "x=torch.tensor([a])\n",
    "torch.exp(x)"
   ]
  },
  {
   "cell_type": "markdown",
   "metadata": {
    "id": "9vQ3UzQ4QZOP"
   },
   "source": [
    "Explanation about example:- Function is limited to certain values."
   ]
  },
  {
   "cell_type": "markdown",
   "metadata": {
    "id": "wfxcCJt9QZOP"
   },
   "source": [
    "Closing comments about when to use this function:- It is used when you want to get exponential values of attributes."
   ]
  },
  {
   "cell_type": "code",
   "execution_count": 34,
   "metadata": {
    "colab": {
     "base_uri": "https://localhost:8080/",
     "height": 102
    },
    "executionInfo": {
     "elapsed": 5108,
     "status": "ok",
     "timestamp": 1607241863023,
     "user": {
      "displayName": "Yashvardhan",
      "photoUrl": "https://lh3.googleusercontent.com/a-/AOh14GjOA2bDNbFlzIc87oEVhZJx5P5OImQZnvo7NGr4gg=s64",
      "userId": "12078069401031703493"
     },
     "user_tz": -330
    },
    "id": "t2BIKS_7QZOP",
    "outputId": "256610f4-621b-445d-8d78-7f4a2d7a3ddc"
   },
   "outputs": [
    {
     "name": "stdout",
     "output_type": "stream",
     "text": [
      "[jovian] Detected Colab notebook...\u001b[0m\n",
      "[jovian] Uploading colab notebook to Jovian...\u001b[0m\n",
      "[jovian] Capturing environment..\u001b[0m\n",
      "[jovian] Committed successfully! https://jovian.ai/vardhanyash20000/01-tensor-operations\u001b[0m\n"
     ]
    },
    {
     "data": {
      "application/vnd.google.colaboratory.intrinsic+json": {
       "type": "string"
      },
      "text/plain": [
       "'https://jovian.ai/vardhanyash20000/01-tensor-operations'"
      ]
     },
     "execution_count": 34,
     "metadata": {
      "tags": []
     },
     "output_type": "execute_result"
    }
   ],
   "source": [
    "jovian.commit(project='01-tensor-operations')"
   ]
  },
  {
   "cell_type": "markdown",
   "metadata": {
    "id": "M40ucRLEQZOQ"
   },
   "source": [
    "## Function 5 - torch.chunk(Indexing, Slicing, Mutating operations)\n",
    "\n",
    "Add some explanations:- Splits a tensor into a specific number of chunks. Each chunk is a view of the input tensor."
   ]
  },
  {
   "cell_type": "code",
   "execution_count": 35,
   "metadata": {
    "colab": {
     "base_uri": "https://localhost:8080/"
    },
    "executionInfo": {
     "elapsed": 2090,
     "status": "ok",
     "timestamp": 1607242263318,
     "user": {
      "displayName": "Yashvardhan",
      "photoUrl": "https://lh3.googleusercontent.com/a-/AOh14GjOA2bDNbFlzIc87oEVhZJx5P5OImQZnvo7NGr4gg=s64",
      "userId": "12078069401031703493"
     },
     "user_tz": -330
    },
    "id": "Kix3RRxJQZOQ",
    "outputId": "83d311cf-c5e3-4ff0-9b30-a21ac39cc5d2"
   },
   "outputs": [
    {
     "name": "stdout",
     "output_type": "stream",
     "text": [
      "tensor([ 0,  2,  4,  6,  8, 10, 12, 14])\n"
     ]
    },
    {
     "data": {
      "text/plain": [
       "(tensor([0, 2, 4]), tensor([ 6,  8, 10]), tensor([12, 14]))"
      ]
     },
     "execution_count": 35,
     "metadata": {
      "tags": []
     },
     "output_type": "execute_result"
    }
   ],
   "source": [
    "# Example 1 - working\n",
    "tensor1 = torch.arange(0, 15, 2)\n",
    "print(tensor1)\n",
    "torch.chunk(tensor1, 3)"
   ]
  },
  {
   "cell_type": "markdown",
   "metadata": {
    "id": "gk7In7q8QZOQ"
   },
   "source": [
    "Explanation about example:- Here we see first we created tensor1 and then using chunk function splited it into 3 parts here we can see last part has only two values instead of three like other two that is because tensor one has odd number of total values."
   ]
  },
  {
   "cell_type": "code",
   "execution_count": 37,
   "metadata": {
    "colab": {
     "base_uri": "https://localhost:8080/"
    },
    "executionInfo": {
     "elapsed": 1086,
     "status": "ok",
     "timestamp": 1607242489107,
     "user": {
      "displayName": "Yashvardhan",
      "photoUrl": "https://lh3.googleusercontent.com/a-/AOh14GjOA2bDNbFlzIc87oEVhZJx5P5OImQZnvo7NGr4gg=s64",
      "userId": "12078069401031703493"
     },
     "user_tz": -330
    },
    "id": "nYoblo0JQZOQ",
    "outputId": "e90ba0d0-e521-46e7-cc01-8ce276f1b918"
   },
   "outputs": [
    {
     "name": "stdout",
     "output_type": "stream",
     "text": [
      "tensor([ 0,  2,  4,  6,  8, 10, 12, 14, 16, 18, 20, 22, 24, 26, 28, 30, 32, 34,\n",
      "        36, 38, 40, 42, 44, 46, 48])\n"
     ]
    },
    {
     "data": {
      "text/plain": [
       "(tensor([ 0,  2,  4,  6,  8, 10, 12, 14, 16]),\n",
       " tensor([18, 20, 22, 24, 26, 28, 30, 32, 34]),\n",
       " tensor([36, 38, 40, 42, 44, 46, 48]))"
      ]
     },
     "execution_count": 37,
     "metadata": {
      "tags": []
     },
     "output_type": "execute_result"
    }
   ],
   "source": [
    "# Example 2 - working\n",
    "tensor2 = torch.arange(0, 50, 2)\n",
    "print(tensor2)\n",
    "torch.chunk(tensor2, 3, 0)"
   ]
  },
  {
   "cell_type": "markdown",
   "metadata": {
    "id": "jB2r2oxcQZOQ"
   },
   "source": [
    "Explanation about example:-Here we created a tensor2, then we created 3 chunks and please note that the last tensor has two less element than the rest."
   ]
  },
  {
   "cell_type": "code",
   "execution_count": 38,
   "metadata": {
    "colab": {
     "base_uri": "https://localhost:8080/",
     "height": 178
    },
    "executionInfo": {
     "elapsed": 1079,
     "status": "error",
     "timestamp": 1607242613117,
     "user": {
      "displayName": "Yashvardhan",
      "photoUrl": "https://lh3.googleusercontent.com/a-/AOh14GjOA2bDNbFlzIc87oEVhZJx5P5OImQZnvo7NGr4gg=s64",
      "userId": "12078069401031703493"
     },
     "user_tz": -330
    },
    "id": "alICmSfnQZOQ",
    "outputId": "6efd8b9d-23c6-4015-b566-c40628e0105f"
   },
   "outputs": [
    {
     "ename": "TypeError",
     "evalue": "ignored",
     "output_type": "error",
     "traceback": [
      "\u001b[0;31m---------------------------------------------------------------------------\u001b[0m",
      "\u001b[0;31mTypeError\u001b[0m                                 Traceback (most recent call last)",
      "\u001b[0;32m<ipython-input-38-ea51f12e5695>\u001b[0m in \u001b[0;36m<module>\u001b[0;34m()\u001b[0m\n\u001b[1;32m      1\u001b[0m \u001b[0;31m# Example 3 - breaking (to illustrate when it breaks)\u001b[0m\u001b[0;34m\u001b[0m\u001b[0;34m\u001b[0m\u001b[0;34m\u001b[0m\u001b[0m\n\u001b[0;32m----> 2\u001b[0;31m \u001b[0mtorch\u001b[0m\u001b[0;34m.\u001b[0m\u001b[0mchunk\u001b[0m\u001b[0;34m(\u001b[0m\u001b[0mtensor2\u001b[0m\u001b[0;34m,\u001b[0m\u001b[0;36m3\u001b[0m\u001b[0;34m,\u001b[0m\u001b[0;36m1.0\u001b[0m\u001b[0;34m)\u001b[0m\u001b[0;34m\u001b[0m\u001b[0;34m\u001b[0m\u001b[0m\n\u001b[0m",
      "\u001b[0;31mTypeError\u001b[0m: chunk(): argument 'dim' (position 3) must be int, not float"
     ]
    }
   ],
   "source": [
    "# Example 3 - breaking (to illustrate when it breaks)\n",
    "torch.chunk(tensor2,3,1.0)"
   ]
  },
  {
   "cell_type": "markdown",
   "metadata": {
    "id": "Hs3Kl0hAQZOQ"
   },
   "source": [
    "Explanation about example:- Dimension along which we want to split will always be an integer and cannot be a float value."
   ]
  },
  {
   "cell_type": "markdown",
   "metadata": {
    "id": "KCNO9ojZQZOQ"
   },
   "source": [
    "Closing comments about when to use this function:- This function can be used to modify the data of the tensors as we want."
   ]
  },
  {
   "cell_type": "code",
   "execution_count": 39,
   "metadata": {
    "colab": {
     "base_uri": "https://localhost:8080/",
     "height": 102
    },
    "executionInfo": {
     "elapsed": 4178,
     "status": "ok",
     "timestamp": 1607242695119,
     "user": {
      "displayName": "Yashvardhan",
      "photoUrl": "https://lh3.googleusercontent.com/a-/AOh14GjOA2bDNbFlzIc87oEVhZJx5P5OImQZnvo7NGr4gg=s64",
      "userId": "12078069401031703493"
     },
     "user_tz": -330
    },
    "id": "2yDcBygGQZOQ",
    "outputId": "a5998703-8504-4f6d-cd00-b152aeb880ca"
   },
   "outputs": [
    {
     "name": "stdout",
     "output_type": "stream",
     "text": [
      "[jovian] Detected Colab notebook...\u001b[0m\n",
      "[jovian] Uploading colab notebook to Jovian...\u001b[0m\n",
      "[jovian] Capturing environment..\u001b[0m\n",
      "[jovian] Committed successfully! https://jovian.ai/vardhanyash20000/01-tensor-operations\u001b[0m\n"
     ]
    },
    {
     "data": {
      "application/vnd.google.colaboratory.intrinsic+json": {
       "type": "string"
      },
      "text/plain": [
       "'https://jovian.ai/vardhanyash20000/01-tensor-operations'"
      ]
     },
     "execution_count": 39,
     "metadata": {
      "tags": []
     },
     "output_type": "execute_result"
    }
   ],
   "source": [
    "jovian.commit(project='01-tensor-operations')"
   ]
  },
  {
   "cell_type": "markdown",
   "metadata": {
    "id": "cU7ygwsYQZOR"
   },
   "source": [
    "## Conclusion\n",
    "\n",
    "In this notebook we covered implementations of few basic but useful functions of pytorch, there are a alot of things that can be done with the help of these functions and many more available in pyt "
   ]
  },
  {
   "cell_type": "markdown",
   "metadata": {
    "id": "O0e30JxKQZOR"
   },
   "source": [
    "## Reference Links\n",
    "Provide links to your references and other interesting articles about tensors\n",
    "* Official documentation for tensor operations: https://pytorch.org/docs/stable/torch.html\n",
    "* ..."
   ]
  },
  {
   "cell_type": "code",
   "execution_count": null,
   "metadata": {
    "id": "ZMTz1HJjQZOR",
    "outputId": "c84ed912-4347-4621-f0d2-e38207d96395"
   },
   "outputs": [
    {
     "data": {
      "application/javascript": [
       "window.require && require([\"base/js/namespace\"],function(Jupyter){Jupyter.notebook.save_checkpoint()})"
      ],
      "text/plain": [
       "<IPython.core.display.Javascript object>"
      ]
     },
     "metadata": {
      "tags": []
     },
     "output_type": "display_data"
    },
    {
     "name": "stdout",
     "output_type": "stream",
     "text": [
      "[jovian] Attempting to save notebook..\u001b[0m\n"
     ]
    }
   ],
   "source": [
    "jovian.commit(project='01-tensor-operations')"
   ]
  },
  {
   "cell_type": "code",
   "execution_count": null,
   "metadata": {
    "id": "BxtIrHNqQZOR"
   },
   "outputs": [],
   "source": []
  }
 ],
 "metadata": {
  "colab": {
   "name": "01-tensor-operations.ipynb",
   "provenance": []
  },
  "language_info": {
   "codemirror_mode": {
    "name": "ipython",
    "version": 3
   },
   "file_extension": ".py",
   "mimetype": "text/x-python",
   "name": "python",
   "nbconvert_exporter": "python",
   "pygments_lexer": "ipython3",
   "version": "3.8.5"
  }
 },
 "nbformat": 4,
 "nbformat_minor": 0
}